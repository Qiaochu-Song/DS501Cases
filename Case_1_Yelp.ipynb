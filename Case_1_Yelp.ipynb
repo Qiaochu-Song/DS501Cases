{
 "cells": [
  {
   "cell_type": "markdown",
   "metadata": {},
   "source": [
    "# Case Study 1 : Yelp Data Analysis"
   ]
  },
  {
   "cell_type": "markdown",
   "metadata": {},
   "source": [
    "**Required Readings:** \n",
    "* [Yelp Dataset Challenge](https://www.yelp.com/dataset_challenge) \n",
    "* Please download the Yelp dataset from the above webpage.\n",
    "\n",
    "**NOTE**\n",
    "* Please don't forget to save the notebook frequently when working in Jupyter Notebook, otherwise the changes you made can be lost.\n",
    "\n",
    "\n",
    "Here is an example of the data format. More details are included [here](https://www.yelp.com/dataset_challenge)\n",
    "\n",
    "## Business Objects\n",
    "\n",
    "Business objects contain basic information about local businesses. The fields are as follows:\n",
    "\n",
    "```json\n",
    "{\n",
    "  'type': 'business',\n",
    "  'business_id': (a unique identifier for this business),\n",
    "  'name': (the full business name),\n",
    "  'neighborhoods': (a list of neighborhood names, might be empty),\n",
    "  'full_address': (localized address),\n",
    "  'city': (city),\n",
    "  'state': (state),\n",
    "  'latitude': (latitude),\n",
    "  'longitude': (longitude),\n",
    "  'stars': (star rating, rounded to half-stars),\n",
    "  'review_count': (review count),\n",
    "  'photo_url': (photo url),\n",
    "  'categories': [(localized category names)]\n",
    "  'open': (is the business still open for business?),\n",
    "  'schools': (nearby universities),\n",
    "  'url': (yelp url)\n",
    "}\n",
    "```\n",
    "## Checkin Objects\n",
    "```json\n",
    "{\n",
    "    'type': 'checkin',\n",
    "    'business_id': (encrypted business id),\n",
    "    'checkin_info': {\n",
    "        '0-0': (number of checkins from 00:00 to 01:00 on all Sundays),\n",
    "        '1-0': (number of checkins from 01:00 to 02:00 on all Sundays),\n",
    "        ...\n",
    "        '14-4': (number of checkins from 14:00 to 15:00 on all Thursdays),\n",
    "        ...\n",
    "        '23-6': (number of checkins from 23:00 to 00:00 on all Saturdays)\n",
    "    }, # if there was no checkin for a hour-day block it will not be in the dict\n",
    "}\n",
    "```"
   ]
  },
  {
   "cell_type": "markdown",
   "metadata": {},
   "source": [
    "# Problem: pick a data science problem that you plan to solve using Yelp Data\n",
    "* The problem should be important and interesting, which has a potential impact in some area.\n",
    "* The problem should be solvable using yelp data and data science solutions.\n",
    "\n",
    "Please briefly describe in the following cell: what problem are you trying to solve? why this problem is important and interesting?"
   ]
  },
  {
   "cell_type": "code",
   "execution_count": null,
   "metadata": {
    "ExecuteTime": {
     "end_time": "2019-09-24T14:11:43.629062Z",
     "start_time": "2019-09-24T14:11:43.625062Z"
    }
   },
   "outputs": [],
   "source": [
    "\n",
    "\n",
    "\n",
    "\n",
    "\n",
    "\n",
    "\n",
    "\n",
    "\n",
    "\n",
    "\n"
   ]
  },
  {
   "cell_type": "code",
   "execution_count": 1,
   "metadata": {
    "ExecuteTime": {
     "end_time": "2019-10-03T00:37:55.773034Z",
     "start_time": "2019-10-03T00:37:55.616874Z"
    }
   },
   "outputs": [],
   "source": [
    "import os\n",
    "import json\n",
    "import numpy as np\n",
    "import pandas as pd\n",
    "from tqdm._tqdm_notebook import tqdm_notebook as tqdm\n",
    "from itertools import product\n",
    "import gc\n",
    "from ast import literal_eval\n",
    "\n",
    "tqdm.pandas()\n",
    "pd.set_option(\"display.max_rows\", 10000)"
   ]
  },
  {
   "cell_type": "code",
   "execution_count": 2,
   "metadata": {
    "ExecuteTime": {
     "end_time": "2019-10-03T00:37:56.290230Z",
     "start_time": "2019-10-03T00:37:56.285772Z"
    }
   },
   "outputs": [],
   "source": [
    "# drop features with NaN more than\n",
    "NA_DROP_THRESHOLD = 0.9\n",
    "# fill NaN with\n",
    "NA_TOKEN = 'Missing'\n",
    "# only consider objects that with more than # reviews\n",
    "N_REV = 10"
   ]
  },
  {
   "cell_type": "markdown",
   "metadata": {},
   "source": [
    "# Data Collection/Processing: "
   ]
  },
  {
   "cell_type": "markdown",
   "metadata": {},
   "source": [
    "## Processing"
   ]
  },
  {
   "cell_type": "markdown",
   "metadata": {},
   "source": [
    "### load the datasets, do some basic preprocessing"
   ]
  },
  {
   "cell_type": "code",
   "execution_count": 3,
   "metadata": {
    "ExecuteTime": {
     "end_time": "2019-10-03T00:38:13.863255Z",
     "start_time": "2019-10-03T00:37:57.519358Z"
    },
    "code_folding": []
   },
   "outputs": [
    {
     "name": "stderr",
     "output_type": "stream",
     "text": [
      "/home/wpishare/anaconda3/lib/python3.7/site-packages/IPython/core/interactiveshell.py:3248: DtypeWarning: Columns (7,27) have mixed types. Specify dtype option on import or set low_memory=False.\n",
      "  if (await self.run_code(code, result,  async_=asy)):\n"
     ]
    }
   ],
   "source": [
    "#----------------------------------------------\n",
    "# Your code starts here\n",
    "#   Please add comments or text cells in between to explain the general idea of each block of the code.\n",
    "#   Please feel free to add more cells below this cell if necessary\n",
    "\n",
    "def process(yelp_dir):\n",
    "    \n",
    "    # load files\n",
    "    print('loading reviews')\n",
    "    with open(os.path.join(yelp_dir, 'review.json'), 'r', encoding='utf-8') as f:\n",
    "        df_rev = pd.read_json(f, lines=True, )\n",
    "        \n",
    "    # process rev\n",
    "    print('processing review')\n",
    "    df_rev.drop(columns=['text', 'date'], inplace=True)\n",
    "    \n",
    "    \n",
    "    # load files\n",
    "    print('loading business')\n",
    "    with open(os.path.join(yelp_dir, 'business.json'), 'r', encoding='utf-8') as f:\n",
    "        df_bus = pd.read_json(f, lines=True)\n",
    "    print('loading checkin')\n",
    "    with open(os.path.join(yelp_dir, 'checkin.json'), 'r', encoding='utf-8') as f:\n",
    "        df_chk = pd.read_json(f, lines=True)\n",
    "    \n",
    "    # process business\n",
    "    print('processing business')\n",
    "    \n",
    "    # build new df to storage multivalue attrs\n",
    "    print('building catogories df')\n",
    "    df_bus['categories'] = df_bus['categories'].apply(lambda x: [item.strip() for item in x.split(',')] if x else None)\n",
    "    cat_tmp = {'business_id': [],\n",
    "               'category': []}\n",
    "    def insert_into_cat(row):\n",
    "        if row['categories']:\n",
    "            business_id = row['business_id']\n",
    "            cats = row['categories']\n",
    "            for cat in cats:\n",
    "                cat_tmp['business_id'].append(business_id)\n",
    "                cat_tmp['category'].append(cat)\n",
    "\n",
    "    df_bus.progress_apply(insert_into_cat, axis=1)\n",
    "    df_bus_cat = pd.DataFrame(cat_tmp)\n",
    "    df_bus.drop(columns=['categories'], inplace=True)\n",
    "    \n",
    "    \n",
    "    print('building attributes df')\n",
    "    # build attr lists\n",
    "    attrs = []\n",
    "    def attrs_union(x, attrs):\n",
    "        if x:\n",
    "            attrs = attrs.extend(list(x.keys()))\n",
    "    df_bus['attributes'].apply(attrs_union, attrs=attrs)\n",
    "    attrs = list(set(attrs))\n",
    "    \n",
    "    # build df\n",
    "    attrs_tmp = {'business_id': []}\n",
    "    for attr in attrs:\n",
    "        attrs_tmp[attr] = []\n",
    "    def insert_into_attr(row):\n",
    "        if row['attributes']:\n",
    "            attrs_tmp['business_id'].append(row['business_id'])\n",
    "            this_attrs = row['attributes']\n",
    "            for attr in attrs:\n",
    "                attrs_tmp[attr].append(this_attrs.get(attr))\n",
    "                \n",
    "    df_bus.progress_apply(insert_into_attr, axis=1)\n",
    "    df_bus_attr = pd.DataFrame(attrs_tmp)\n",
    "    df_bus.drop(columns=['attributes'], inplace=True)\n",
    "    \n",
    "    ############ ATTN: STILL HAVE DICT IN df_bus_attr ############\n",
    "    \n",
    "    # process checkin\n",
    "    print('processing checkin')\n",
    "    \n",
    "    df_chk['date'] = df_chk['date'].apply(lambda x: x.split(','))\n",
    "    \n",
    "    # rebuild df_chk\n",
    "    print('rebuilding df_chk')\n",
    "    chk_tmp = {'business_id': [],\n",
    "               'date': []}\n",
    "    def insert_into_chk(row):\n",
    "        for date in row['date']:\n",
    "            chk_tmp['business_id'].append(row['business_id'])\n",
    "            chk_tmp['date'].append(date)\n",
    "\n",
    "    df_chk.progress_apply(insert_into_chk, axis=1)\n",
    "    df_chk = pd.DataFrame(chk_tmp)\n",
    "    df_chk['date'] = df_chk['date'].astype('datetime64')\n",
    "    \n",
    "    \n",
    "    # build hours df\n",
    "    print('building hours df')\n",
    "    hours_keys = ['Monday', 'Tuesday', 'Wednesday', 'Thursday', 'Friday', 'Saturday', 'Sunday'] # checked is indeed all the possible keys\n",
    "    status = ['open', 'close']\n",
    "    hour_tmp = {'business_id':[]}\n",
    "    hours_attr = []\n",
    "    for wk, st in product(hours_keys, status):\n",
    "        this_attr = wk + '_' + st\n",
    "        hours_attr.append(this_attr)\n",
    "        hour_tmp[this_attr] = []\n",
    "\n",
    "    def insert_into_hours(row):\n",
    "        if row['hours']:\n",
    "            hour_tmp['business_id'].append(row['business_id'])\n",
    "            for wk in hours_keys:\n",
    "                wk_hours = row['hours'].get(wk)\n",
    "                if wk_hours:\n",
    "                    open_time, close_time = [item.strip() for item in wk_hours.split('-')]\n",
    "                else:\n",
    "                    open_time, close_time = None, None\n",
    "                hour_tmp[wk + '_open'].append(open_time)\n",
    "                hour_tmp[wk + '_close'].append(open_time)\n",
    "\n",
    "    df_bus.progress_apply(insert_into_hours, axis=1)\n",
    "    df_bus_hours = pd.DataFrame(hour_tmp)\n",
    "    df_bus.drop(columns=['hours'], inplace=True)\n",
    "    \n",
    "    \n",
    "    print('finished')\n",
    "    return df_bus, df_chk, df_bus_cat, df_bus_attr, df_bus_hours, df_rev\n",
    "\n",
    "def load(yelp_dir, dfs):\n",
    "    ret = []\n",
    "    for df in dfs:\n",
    "        if not df.endswith('.csv'):\n",
    "            df = df + '.csv'\n",
    "        path = os.path.join(yelp_dir, df)\n",
    "        ret.append(pd.read_csv(path))\n",
    "    return ret\n",
    "\n",
    "#df_bus, df_chk, df_bus_cat, df_bus_attr, df_bus_hours, df_rev = process('J:/fastjupyter/yelp_dataset')\n",
    "df_bus, df_bus_cat, df_bus_attr, df_rev, df_chk = load('data/case1/', ['bus', 'bus_cat', 'bus_attr', 'rev', 'chk'])\n"
   ]
  },
  {
   "cell_type": "markdown",
   "metadata": {},
   "source": [
    "### function to save the processed df"
   ]
  },
  {
   "cell_type": "code",
   "execution_count": 4,
   "metadata": {
    "ExecuteTime": {
     "end_time": "2019-10-03T00:38:13.866533Z",
     "start_time": "2019-10-03T00:38:13.864447Z"
    }
   },
   "outputs": [],
   "source": [
    "def save_df(df, name, index=False, **kwargs):\n",
    "    df.to_csv(os.path.join('data/case1/', name), index=index, **kwargs)\n",
    "#save_df(df_bus, 'bus.csv')\n",
    "#save_df(df_chk, 'chk.csv')\n",
    "#save_df(df_bus_cat, 'bus_cat.csv')\n",
    "#save_df(df_bus_attr, 'bus_attr.csv')\n",
    "#save_df(df_bus_hours, 'bus_hours.csv')\n",
    "#save_df(df_rev, 'rev.csv')\n",
    "# .applymap(literal_eval)"
   ]
  },
  {
   "cell_type": "markdown",
   "metadata": {},
   "source": [
    "## Business"
   ]
  },
  {
   "cell_type": "markdown",
   "metadata": {},
   "source": [
    "### get the business_id of all restaurants"
   ]
  },
  {
   "cell_type": "markdown",
   "metadata": {},
   "source": [
    "We only want every restaurant, so we get the business_id of them, and intersect the tables in the below process."
   ]
  },
  {
   "cell_type": "code",
   "execution_count": 5,
   "metadata": {
    "ExecuteTime": {
     "end_time": "2019-10-03T00:38:13.915114Z",
     "start_time": "2019-10-03T00:38:13.867720Z"
    }
   },
   "outputs": [],
   "source": [
    "res_id = df_bus_cat[df_bus_cat['category']=='Restaurants']['business_id']"
   ]
  },
  {
   "cell_type": "markdown",
   "metadata": {},
   "source": [
    "### process the attributes with multivalues (dictonary-like)"
   ]
  },
  {
   "cell_type": "code",
   "execution_count": 6,
   "metadata": {
    "ExecuteTime": {
     "end_time": "2019-10-03T00:38:13.918771Z",
     "start_time": "2019-10-03T00:38:13.916246Z"
    }
   },
   "outputs": [],
   "source": [
    "def pro(x):\n",
    "    if isinstance(x, str):\n",
    "        if x.startswith('u\"') or x.startswith(\"u'\"):\n",
    "            return literal_eval(x)\n",
    "        elif x == 'none':\n",
    "            return None\n",
    "        elif x.startswith(\"'\") and x.endswith(\"'\"):\n",
    "            return literal_eval(x)\n",
    "        else:\n",
    "            return x\n",
    "    else:\n",
    "        return x"
   ]
  },
  {
   "cell_type": "code",
   "execution_count": 7,
   "metadata": {
    "ExecuteTime": {
     "end_time": "2019-10-03T00:38:14.229153Z",
     "start_time": "2019-10-03T00:38:13.919641Z"
    }
   },
   "outputs": [],
   "source": [
    "df_bus_rest = df_bus.merge(res_id, on='business_id').applymap(pro)"
   ]
  },
  {
   "cell_type": "code",
   "execution_count": 8,
   "metadata": {
    "ExecuteTime": {
     "end_time": "2019-10-03T00:38:14.539330Z",
     "start_time": "2019-10-03T00:38:14.230227Z"
    }
   },
   "outputs": [],
   "source": [
    "df_bus_cat_rest = df_bus_cat.merge(res_id, on='business_id').applymap(pro)"
   ]
  },
  {
   "cell_type": "code",
   "execution_count": 9,
   "metadata": {
    "ExecuteTime": {
     "end_time": "2019-10-03T00:38:14.553423Z",
     "start_time": "2019-10-03T00:38:14.540499Z"
    }
   },
   "outputs": [
    {
     "data": {
      "text/plain": [
       "array(['Specialty Food', 'Restaurants', 'Dim Sum', 'Imported Food',\n",
       "       'Food', 'Chinese', 'Ethnic Food', 'Seafood', 'Sushi Bars',\n",
       "       'Japanese', 'Breakfast & Brunch', 'Mexican', 'Tacos', 'Tex-Mex',\n",
       "       'Fast Food', 'Italian', 'Pizza', 'Chicken Wings', 'Sandwiches',\n",
       "       'Salad', 'Burgers', 'Comfort Food', 'Patisserie/Cake Shop', 'Bars',\n",
       "       'Nightlife', 'Juice Bars & Smoothies', 'Vegan', 'Tapas Bars',\n",
       "       'Southern', 'Coffee & Tea', 'American (Traditional)',\n",
       "       'American (New)', 'Steakhouses', 'Modern European', 'Wine Bars',\n",
       "       'Hookah Bars', 'Persian/Iranian', 'Country Dance Halls',\n",
       "       'Middle Eastern', 'Beer', 'Wine & Spirits', 'Lounges', 'Delis',\n",
       "       'Fish & Chips', 'Polish', 'Korean', 'Ice Cream & Frozen Yogurt',\n",
       "       'Desserts', 'Custom Cakes', 'Bakeries', 'Cafes', 'Canadian (New)',\n",
       "       'Portuguese', 'Landmarks & Historical Buildings', 'Mediterranean',\n",
       "       'Public Services & Government', 'Grocery', 'Butcher', 'Pubs',\n",
       "       'Beer Gardens', 'Event Planning & Services',\n",
       "       'Venues & Event Spaces', 'Sports Bars', 'Vietnamese', 'Thai',\n",
       "       'Caribbean', 'Caterers', 'Asian Fusion', 'Hot Dogs', 'Vegetarian',\n",
       "       'Soup', 'French', 'Creperies', 'Buffets', 'Diners', 'Dive Bars',\n",
       "       'Barbeque', 'Turkish', 'Gastropubs', 'Cajun/Creole', 'Moroccan',\n",
       "       'Tapas/Small Plates', 'Gluten-Free', 'Food Delivery Services',\n",
       "       'Weight Loss Centers', 'Health & Medical', 'Nutritionists',\n",
       "       'Local Flavor', 'Poutineries', 'Wraps', 'Hawaiian', 'Poke',\n",
       "       'Ramen', 'Taiwanese', 'Donuts', 'Pakistani', 'Indian',\n",
       "       'Brasseries', 'Soul Food', 'Filipino', 'Hakka', 'Beauty & Spas',\n",
       "       'Barbers', 'Peruvian', 'Coffee Roasteries', 'Bubble Tea', 'Greek',\n",
       "       'Cocktail Bars', 'Latin American', 'Flowers & Gifts',\n",
       "       'Art Galleries', 'Arts & Entertainment', 'Museums',\n",
       "       'Shopping Centers', 'Shopping', 'Florists', 'Halal',\n",
       "       'Party & Event Planning', 'Lebanese', 'Do-It-Yourself Food',\n",
       "       'Mongolian', 'Puerto Rican', 'Noodles', 'Convenience Stores',\n",
       "       'Gas Stations', 'Automotive', 'Food Stands', 'Waffles',\n",
       "       'Dinner Theater', 'Bagels', 'Bookstores', 'Books', 'Mags',\n",
       "       'Music & Video', 'Meat Shops', 'Delicatessen', 'Fondue',\n",
       "       'Cantonese', 'Food Trucks', 'Chicken Shop', 'Fruits & Veggies',\n",
       "       'Farms', 'African', 'Beer Bar', 'Kosher', 'Ukrainian',\n",
       "       'Whiskey Bars', 'Hot Pot', 'Malaysian', 'Internet Cafes',\n",
       "       'Karaoke', 'Irish', 'Country Clubs', 'Active Life', 'Golf',\n",
       "       'Department Stores', 'Accessories', \"Men's Clothing\", 'Fashion',\n",
       "       'Shoe Stores', \"Women's Clothing\", 'Pan Asian', 'Sri Lankan',\n",
       "       'Bistros', 'Farmers Market', 'Car Wash', 'Street Vendors',\n",
       "       'Music Venues', 'Amusement Parks', 'Kebab', 'Mailbox Centers',\n",
       "       'Gelato', 'Local Services', 'Candy Stores', 'Shaved Ice',\n",
       "       'Hungarian', 'Dance Clubs', 'British', 'Public Markets',\n",
       "       'Breweries', 'Dance Studios', 'Performing Arts',\n",
       "       'Fitness & Instruction', 'German', 'Afghan', 'Ethical Grocery',\n",
       "       'Tea Rooms', 'Brazilian', 'Brewpubs', 'Bowling', 'Irish Pub',\n",
       "       'Cheesesteaks', 'Laotian', 'Honduran', 'Salvadoran', 'Nicaraguan',\n",
       "       'Ethiopian', 'Hotels & Travel', 'Hotels', 'Casinos', 'Falafel',\n",
       "       'Arts & Crafts', 'Cooking Classes', 'Chiropractors', 'Spanish',\n",
       "       'Sugar Shacks', 'Tours', 'Organic Stores', 'Personal Chefs',\n",
       "       'Wineries', 'Bed & Breakfast', 'Resorts', 'Smokehouse', 'Basque',\n",
       "       'Wedding Planning', 'Gift Shops', 'International Grocery',\n",
       "       'Ethnic Grocery', 'Observatories', 'Live/Raw Food', 'Macarons',\n",
       "       'Venezuelan', 'Cinema', 'Arabian', 'Kitchen & Bath',\n",
       "       'Home & Garden', 'Russian', 'Jazz & Blues', 'Izakaya',\n",
       "       'Swimming Pools', 'Pool Halls', 'South African',\n",
       "       'Nurseries & Gardening', 'Beach Bars', 'Herbs & Spices', 'Belgian',\n",
       "       'Mini Golf', 'Parks', 'Recreation Centers', 'Amateur Sports Teams',\n",
       "       'Stadiums & Arenas', 'Health Markets', 'Rotisserie Chicken',\n",
       "       'Cheese Shops', 'Cupcakes', 'Specialty Schools', 'Cooking Schools',\n",
       "       'Colleges & Universities', 'Education', 'Pasta Shops',\n",
       "       'Acai Bowls', 'Cannabis Dispensaries', 'Donairs',\n",
       "       'New Mexican Cuisine', 'Indoor Playcentre', 'Arcades',\n",
       "       'Kids Activities', 'Playgrounds', 'Community Service/Non-Profit',\n",
       "       'Tennis', 'Travel Services', 'Hiking', 'Visitor Centers',\n",
       "       'Skating Rinks', 'Beaches', 'Wine Tasting Room',\n",
       "       'Adult Entertainment', 'Strip Clubs', 'Cambodian', 'Festivals',\n",
       "       'Toy Stores', 'Art Classes', 'Trinidadian', 'Syrian',\n",
       "       'Knife Sharpening', 'Gay Bars', 'Szechuan', 'Scottish',\n",
       "       'Street Art', 'Furniture Stores', 'Food Court', 'Bartenders',\n",
       "       'Argentine', 'Skin Care', 'Day Spas', 'Massage', 'Nail Salons',\n",
       "       'Laser Tag', 'Hong Kong Style Cafe', 'Australian',\n",
       "       'Seafood Markets', 'Horse Racing', 'Cuban',\n",
       "       'Cosmetics & Beauty Supply', 'Mattresses', 'Professional Services',\n",
       "       'Clowns', 'Marketing', 'Magicians', 'Bangladeshi', 'Antiques',\n",
       "       'Austrian', 'Bus Tours', 'Boat Charters', 'Air Duct Cleaning',\n",
       "       'Fire Protection Services', 'Home Cleaning', 'Home Services',\n",
       "       'Office Cleaning', 'Speakeasies', 'Themed Cafes', 'Pets',\n",
       "       'Chocolatiers & Shops', 'Armenian', 'Hair Salons', 'Comedy Clubs',\n",
       "       'Himalayan/Nepalese', 'Wine Tasting Classes', 'Tasting Classes',\n",
       "       'Contractors', 'Dry Cleaning & Laundry', 'Social Clubs',\n",
       "       'Real Estate', 'Apartments', 'Drugstores', 'Teppanyaki',\n",
       "       'Singaporean', 'Dentists', 'Cosmetic Dentists', 'Massage Therapy',\n",
       "       'Golf Lessons', 'Pretzels', 'Bingo Halls',\n",
       "       'Religious Organizations', 'Art Schools', 'Adult Education',\n",
       "       'Cideries', 'Grilling Equipment', 'Outdoor Furniture Stores',\n",
       "       'Appliances', 'Shared Office Spaces',\n",
       "       'Couriers & Delivery Services', 'Airport Shuttles',\n",
       "       'Personal Shopping', 'Security Services', 'Car Rental',\n",
       "       'Personal Assistants', 'Laundry Services', 'Dry Cleaning',\n",
       "       'Transportation', 'Party Bus Rentals', 'Limos',\n",
       "       'Conveyor Belt Sushi', 'Shanghainese', 'Synagogues', 'Tuscan',\n",
       "       'Indonesian', 'Cosmetic Surgeons', 'Home Health Care', 'Doctors',\n",
       "       'General Dentistry', 'Jewelry', 'Orthodontists',\n",
       "       'Medical Transportation', 'Teeth Whitening',\n",
       "       'Real Estate Services', 'Uzbek', 'Hobby Shops', 'Pet Services',\n",
       "       'Trampoline Parks', 'Climbing', 'Waxing', 'Sailing',\n",
       "       'Hair Removal', 'Hair Stylists', 'Laser Hair Removal',\n",
       "       'International', 'Haitian', 'Cafeteria', 'Churches', 'Zoos',\n",
       "       'Burmese', 'Outlet Stores', 'Paint & Sip', 'Body Shops',\n",
       "       'Bar Crawl', 'Sicilian', 'Dominican', 'Tobacco Shops',\n",
       "       'Coffee & Tea Supplies', 'Colombian', 'Oil Change Stations',\n",
       "       'Team Building Activities', 'Family Practice', 'Empanadas',\n",
       "       'Supper Clubs', 'Egyptian', 'Mosques', 'Nail Technicians',\n",
       "       'Eyelash Service', 'Special Education', 'Vinyl Records',\n",
       "       'Car Dealers', 'Yelp Events', 'Pharmacy', 'Computers',\n",
       "       'IT Services & Computer Repair', 'Acne Treatment', 'Medical Spas',\n",
       "       'Sporting Goods', 'Movers', 'Psychologists', 'Life Coach',\n",
       "       'Counseling & Mental Health', 'Psychics', 'Reiki',\n",
       "       'Meditation Centers', 'Supernatural Readings', 'Czech/Slovakian',\n",
       "       'Czech', 'Pop-up Shops', 'Eatertainment', 'Wholesale Stores',\n",
       "       'Office Equipment', 'Discount Store', 'Gyms',\n",
       "       'Auto Parts & Supplies', 'Sports Clubs', 'Police Departments',\n",
       "       'Cheese Tasting Classes', 'Home Decor', 'Financial Services',\n",
       "       'Check Cashing/Pay-day Loans', 'Currency Exchange',\n",
       "       'Animal Shelters', 'Day Camps', 'Christmas Trees',\n",
       "       'Vitamins & Supplements', 'Tabletop Games', 'Bounce House Rentals',\n",
       "       'Party Equipment Rentals', 'CSA', 'Aquariums', 'Aquarium Services',\n",
       "       'Pet Stores', 'Local Fish Stores',\n",
       "       'Musical Instruments & Teachers', 'Alternative Medicine',\n",
       "       'Piano Bars', 'Wigs', 'Mobile Phone Repair', 'Pop-Up Restaurants',\n",
       "       'Coffeeshops', 'Spray Tanning', 'Tanning Beds', 'Tanning',\n",
       "       'Distilleries', 'Mountain Biking', 'Botanical Gardens',\n",
       "       'Comic Books', 'Funeral Services & Cemeteries',\n",
       "       'Middle Schools & High Schools', 'Elementary Schools',\n",
       "       'Preschools', 'Hospitals', 'Parking', 'Hostels', 'Scandinavian',\n",
       "       'Pub Food', 'Swiss Food', 'Cards & Stationery', 'Pet Boarding',\n",
       "       'Pet Sitting', 'Dog Walkers', 'Libraries', 'Lawyers',\n",
       "       'Bankruptcy Law', 'Investing', 'Cardiologists',\n",
       "       'Emergency Medicine', 'Pediatricians', 'Music & DVDs',\n",
       "       'Pool & Billiards', 'Japanese Curry', 'Hair Extensions', 'Used',\n",
       "       'Vintage & Consignment', 'Champagne Bars', 'Photographers',\n",
       "       'Event Photography', 'Session Photography', 'Gardeners',\n",
       "       'Landscaping', 'Golf Equipment Shops', 'Slovakian', 'Tickets',\n",
       "       'Ticket Sales', 'Campgrounds', 'Lakes', 'Musicians', 'Shaved Snow',\n",
       "       'Souvenir Shops', 'Keys & Locksmiths',\n",
       "       'Photography Stores & Services', 'Yoga', 'Guest Houses',\n",
       "       'Boat Dealers', 'Marinas', 'Boat Repair', 'Used Bookstore',\n",
       "       'Flooring', 'Foundation Repair', 'Masonry/Concrete',\n",
       "       'Post Offices', 'Party Supplies', 'Club Crawl', 'Town Car Service',\n",
       "       'Septic Services', 'Bartending Schools', 'Skydiving',\n",
       "       'Beer Garden', 'Makeup Artists', 'Pita', 'Soccer', 'Auto Repair',\n",
       "       'Transmission Repair', 'Tires', 'Bike Rentals',\n",
       "       'Bike Repair/Maintenance', 'Minho', 'Plumbing', 'RV Parks',\n",
       "       'Trainers', 'Videos & Video Game Rental', 'Landscape Architects',\n",
       "       'Popcorn Shops', 'Wholesalers', 'Restaurant Supplies',\n",
       "       'Food Banks', 'Ski Schools', 'Ski Resorts', 'Sports Wear', 'Udon',\n",
       "       'Wine Tours', 'Laundromat', 'Tax Services', 'Accountants',\n",
       "       'Metal Fabricators', 'Appliances & Repair', 'Real Estate Agents',\n",
       "       'Wedding Chapels', 'Pet Adoption', 'Food Tours', 'Escape Games',\n",
       "       'Tiki Bars', 'Leisure Centers', 'Art Supplies', 'Cultural Center',\n",
       "       'Tonkatsu', 'Tempura', 'Cabaret', 'Vape Shops',\n",
       "       'Building Supplies', 'Interior Design', 'Damage Restoration',\n",
       "       'Roofing', 'Home Inspectors', 'Business Consulting',\n",
       "       'Ice Delivery', 'Pilates', 'Furniture Rental', 'Fur Clothing',\n",
       "       'Electronics', 'Lighting Fixtures & Equipment', 'Furniture Repair',\n",
       "       'Photo Booth Rentals', 'DJs', 'Audio/Visual Equipment Rental',\n",
       "       'Airports', 'Security Systems', 'Blow Dry/Out Services',\n",
       "       'Electricians', 'Rock Climbing', 'Printing Services',\n",
       "       'Screen Printing', 'Honey', 'Towing', 'Head Shops',\n",
       "       'Carpet Installation', 'Cannabis Clinics', 'Kombucha',\n",
       "       'Beverage Store', 'Community Centers', 'Gun/Rifle Ranges',\n",
       "       'Cannabis Collective', 'Go Karts', 'Race Tracks',\n",
       "       'Newspapers & Magazines', 'Oaxacan', 'Tattoo', 'Pawn Shops',\n",
       "       'Piercing', 'Rehabilitation Center', 'Olive Oil',\n",
       "       'Fireplace Services', 'Batting Cages', 'Mortgage Brokers',\n",
       "       'Island Pub', 'Mauritius', 'Floral Designers', 'Water Stores',\n",
       "       'Pet Groomers', 'Horseback Riding', 'Vacation Rentals',\n",
       "       'Guamanian', 'Paint-Your-Own Pottery', 'Leather Goods', 'Boating',\n",
       "       'Iberian', 'Golf Equipment', 'Vehicle Wraps', 'Auto Customization',\n",
       "       'Signmaking', 'Auto Glass Services', 'Car Window Tinting',\n",
       "       'Tai Chi', 'Martial Arts', 'Banks & Credit Unions',\n",
       "       'Mobile Phones', 'Public Transportation', 'Car Share Services',\n",
       "       'Feng Shui', 'Commercial Real Estate', 'Reunion', 'Trophy Shops',\n",
       "       'Hats', 'Bikes', 'Summer Camps', 'Eyewear & Opticians',\n",
       "       'Optometrists', 'Veterinarians', 'Eastern European',\n",
       "       'Graphic Design', 'Studio Taping', 'Bocce Ball', 'Formal Wear',\n",
       "       'Bespoke Clothing', 'Plus Size Fashion', 'Wills', 'Trusts',\n",
       "       '& Probates', 'Estate Planning Law', 'Tax Law', 'Hardware Stores',\n",
       "       'Courthouses', 'Thrift Stores', 'Swimwear', 'Surf Schools',\n",
       "       'Opera & Ballet', 'Spiritual Shop',\n",
       "       'Recording & Rehearsal Studios', 'Bridal', 'Beer Hall',\n",
       "       'Windshield Installation & Repair', 'Auto Insurance', 'Insurance',\n",
       "       'Handyman', 'Animal Physical Therapy', 'Animal Assisted Therapy',\n",
       "       'Pet Training', 'Private Tutors', 'Holistic Animal Care',\n",
       "       'Archery', 'Home Window Tinting', 'Art Museums',\n",
       "       'Heating & Air Conditioning/HVAC', 'Pool & Hot Tub Service',\n",
       "       'Walking Tours', 'Soba', 'Medical Centers', 'Squash', 'Taxis',\n",
       "       'Drive-Thru Bars', 'Airport Lounges', 'Bulgarian', 'Flea Markets',\n",
       "       'Historical Tours', 'Baby Gear & Furniture', 'Milkshake Bars',\n",
       "       'Pumpkin Patches', 'Pick Your Own Farms', 'Video Game Stores',\n",
       "       'Hainan', 'Furniture Reupholstery', 'Motorcycle Repair',\n",
       "       'Auto Detailing', 'Auto Upholstery', 'RV Repair',\n",
       "       'Traditional Clothing', 'Parenting Classes', 'Airport Terminals',\n",
       "       'Reflexology', 'Occupational Therapy', 'Physical Therapy',\n",
       "       'Acupuncture', 'Commercial Truck Repair', 'Truck Rental',\n",
       "       'University Housing', 'Divorce & Family Law',\n",
       "       'Personal Injury Law', 'Immigration Law', 'Calabrian',\n",
       "       'Health Retreats', 'Windows Installation', 'Software Development',\n",
       "       'Glass & Mirrors', 'Door Sales/Installation',\n",
       "       'Hunting & Fishing Supplies', 'Outdoor Gear', 'Golf Cart Dealers',\n",
       "       'Hot Tub & Pool', 'Holiday Decorations', 'Siding',\n",
       "       'Aircraft Repairs', 'Airsoft', 'Web Design', 'Clothing Rental',\n",
       "       'Screen Printing/T-Shirt Printing', 'Advertising',\n",
       "       'Drywall Installation & Repair', 'Painters', 'Brazilian Jiu-jitsu',\n",
       "       'Officiants', 'Property Management', 'Kids Hair Salons',\n",
       "       'Senegalese', 'Engraving', 'Mass Media', 'Print Media',\n",
       "       'Rest Stops', 'Cigar Bars', 'Game Meat', 'Estate Liquidation',\n",
       "       'Kiosk', 'Virtual Reality Centers', 'Employment Agencies',\n",
       "       'Ophthalmologists', 'Dance Schools', 'Hotel bar',\n",
       "       'Naturopathic/Holistic', 'Medical Cannabis Referrals',\n",
       "       'Water Heater Installation/Repair', 'Unofficial Yelp Events',\n",
       "       'Service Stations', 'Diagnostic Services', 'Laboratory Testing',\n",
       "       'Churros', 'Eyebrow Services', 'Gutter Services', 'Window Washing',\n",
       "       'Pressure Washers'], dtype=object)"
      ]
     },
     "execution_count": 9,
     "metadata": {},
     "output_type": "execute_result"
    }
   ],
   "source": [
    "pd.unique(df_bus_cat_rest['category'])"
   ]
  },
  {
   "cell_type": "code",
   "execution_count": 10,
   "metadata": {
    "ExecuteTime": {
     "end_time": "2019-10-03T00:38:15.554458Z",
     "start_time": "2019-10-03T00:38:14.554862Z"
    }
   },
   "outputs": [],
   "source": [
    "df_res_attr_rest = df_bus_attr.merge(res_id, on='business_id').applymap(pro)"
   ]
  },
  {
   "cell_type": "code",
   "execution_count": 11,
   "metadata": {
    "ExecuteTime": {
     "end_time": "2019-10-03T00:38:22.579926Z",
     "start_time": "2019-10-03T00:38:15.555784Z"
    }
   },
   "outputs": [],
   "source": [
    "def process_attrs(df_res_attr_rest=df_res_attr_rest):\n",
    "    df_res_attr_rest_expand = df_res_attr_rest.copy()\n",
    "    \n",
    "    dic_cols = {'Ambience':[], \n",
    "                'BusinessParking': [], \n",
    "                'GoodForMeal': [],\n",
    "                'BestNights': [],\n",
    "                'Music': [], \n",
    "                'DietaryRestrictions': []}\n",
    "\n",
    "    def insert_dic_cols(x):\n",
    "        if x and not pd.isna(x):\n",
    "            dict_x = literal_eval(x)\n",
    "            if dict_x and not pd.isna(dict_x):\n",
    "                dic_cols[col].extend(list(dict(dict_x).keys()))\n",
    "            return dict_x\n",
    "        else:\n",
    "            return None\n",
    "\n",
    "    for col in dic_cols:\n",
    "        df_res_attr_rest_expand[col + '_dict'] = df_res_attr_rest_expand[col].apply(insert_dic_cols)\n",
    "        dic_cols[col] = list(set(dic_cols[col]))\n",
    "    df_res_attr_rest_expand.drop(columns=list(dic_cols.keys()), inplace=True)\n",
    "\n",
    "    def add_new_att(x, subattr):\n",
    "        if x and not pd.isna(x):\n",
    "            return x.get(subattr)\n",
    "\n",
    "    for col in dic_cols:\n",
    "        for subattr in dic_cols[col]:\n",
    "            attr_name = col + '_' + subattr\n",
    "            df_res_attr_rest_expand[attr_name] = df_res_attr_rest_expand[col + '_dict'].apply(add_new_att, subattr=subattr)\n",
    "        df_res_attr_rest_expand.drop(columns=[col + '_dict'], inplace=True)\n",
    "    return df_res_attr_rest_expand.applymap(pro)\n",
    "\n",
    "df_res_attr_rest_expand = process_attrs()"
   ]
  },
  {
   "cell_type": "code",
   "execution_count": 12,
   "metadata": {
    "ExecuteTime": {
     "end_time": "2019-10-03T00:38:22.689634Z",
     "start_time": "2019-10-03T00:38:22.581030Z"
    }
   },
   "outputs": [
    {
     "name": "stdout",
     "output_type": "stream",
     "text": [
      "<class 'pandas.core.frame.DataFrame'>\n",
      "Int64Index: 57161 entries, 0 to 57160\n",
      "Data columns (total 75 columns):\n",
      "business_id                        57161 non-null object\n",
      "ByAppointmentOnly                  643 non-null object\n",
      "AgesAllowed                        33 non-null object\n",
      "HappyHour                          3810 non-null object\n",
      "RestaurantsPriceRange2             52091 non-null object\n",
      "HairSpecializesIn                  5 non-null object\n",
      "GoodForKids                        50661 non-null object\n",
      "Open24Hours                        7 non-null object\n",
      "OutdoorSeating                     48322 non-null object\n",
      "BusinessAcceptsBitcoin             3369 non-null object\n",
      "Alcohol                            23469 non-null object\n",
      "RestaurantsGoodForGroups           50963 non-null object\n",
      "RestaurantsReservations            50411 non-null object\n",
      "BikeParking                        38886 non-null object\n",
      "RestaurantsDelivery                49812 non-null object\n",
      "BYOBCorkage                        1421 non-null object\n",
      "Corkage                            662 non-null object\n",
      "BusinessAcceptsCreditCards         34374 non-null object\n",
      "RestaurantsAttire                  48540 non-null object\n",
      "HasTV                              44854 non-null object\n",
      "CoatCheck                          2613 non-null object\n",
      "RestaurantsTakeOut                 52312 non-null object\n",
      "BYOB                               28 non-null object\n",
      "DogsAllowed                        4179 non-null object\n",
      "DriveThru                          3191 non-null object\n",
      "RestaurantsCounterService          11 non-null object\n",
      "Smoking                            2447 non-null object\n",
      "WiFi                               40709 non-null object\n",
      "AcceptsInsurance                   15 non-null object\n",
      "NoiseLevel                         41046 non-null object\n",
      "Caters                             34908 non-null object\n",
      "GoodForDancing                     3534 non-null object\n",
      "RestaurantsTableService            17153 non-null object\n",
      "WheelchairAccessible               7913 non-null object\n",
      "Ambience_classy                    44399 non-null object\n",
      "Ambience_trendy                    44399 non-null object\n",
      "Ambience_romantic                  44399 non-null object\n",
      "Ambience_touristy                  44399 non-null object\n",
      "Ambience_hipster                   43835 non-null object\n",
      "Ambience_intimate                  44399 non-null object\n",
      "Ambience_upscale                   44229 non-null object\n",
      "Ambience_casual                    44399 non-null object\n",
      "Ambience_divey                     37199 non-null object\n",
      "BusinessParking_garage             46935 non-null object\n",
      "BusinessParking_valet              46934 non-null object\n",
      "BusinessParking_street             46933 non-null object\n",
      "BusinessParking_lot                46933 non-null object\n",
      "BusinessParking_validated          46932 non-null object\n",
      "GoodForMeal_breakfast              29444 non-null object\n",
      "GoodForMeal_dessert                29444 non-null object\n",
      "GoodForMeal_lunch                  29444 non-null object\n",
      "GoodForMeal_latenight              29444 non-null object\n",
      "GoodForMeal_brunch                 29446 non-null object\n",
      "GoodForMeal_dinner                 29444 non-null object\n",
      "BestNights_monday                  2680 non-null object\n",
      "BestNights_sunday                  2680 non-null object\n",
      "BestNights_thursday                2680 non-null object\n",
      "BestNights_saturday                2680 non-null object\n",
      "BestNights_tuesday                 2680 non-null object\n",
      "BestNights_wednesday               2680 non-null object\n",
      "BestNights_friday                  2680 non-null object\n",
      "Music_background_music             3198 non-null object\n",
      "Music_no_music                     2813 non-null object\n",
      "Music_dj                           3577 non-null object\n",
      "Music_live                         3229 non-null object\n",
      "Music_video                        3201 non-null object\n",
      "Music_karaoke                      3201 non-null object\n",
      "Music_jukebox                      3216 non-null object\n",
      "DietaryRestrictions_vegan          51 non-null object\n",
      "DietaryRestrictions_dairy-free     51 non-null object\n",
      "DietaryRestrictions_vegetarian     51 non-null object\n",
      "DietaryRestrictions_kosher         51 non-null object\n",
      "DietaryRestrictions_halal          51 non-null object\n",
      "DietaryRestrictions_gluten-free    51 non-null object\n",
      "DietaryRestrictions_soy-free       51 non-null object\n",
      "dtypes: object(75)\n",
      "memory usage: 33.1+ MB\n"
     ]
    }
   ],
   "source": [
    "df_res_attr_rest_expand.info()"
   ]
  },
  {
   "cell_type": "code",
   "execution_count": 13,
   "metadata": {
    "ExecuteTime": {
     "end_time": "2019-10-03T00:38:22.815128Z",
     "start_time": "2019-10-03T00:38:22.690513Z"
    }
   },
   "outputs": [
    {
     "data": {
      "text/plain": [
       "business_id                        57161\n",
       "ByAppointmentOnly                      3\n",
       "AgesAllowed                            4\n",
       "HappyHour                              5\n",
       "RestaurantsPriceRange2                 5\n",
       "HairSpecializesIn                      5\n",
       "GoodForKids                            3\n",
       "Open24Hours                            2\n",
       "OutdoorSeating                         3\n",
       "BusinessAcceptsBitcoin                 4\n",
       "Alcohol                                4\n",
       "RestaurantsGoodForGroups               3\n",
       "RestaurantsReservations                3\n",
       "BikeParking                            3\n",
       "RestaurantsDelivery                    3\n",
       "BYOBCorkage                            4\n",
       "Corkage                                2\n",
       "BusinessAcceptsCreditCards             3\n",
       "RestaurantsAttire                      4\n",
       "HasTV                                  3\n",
       "CoatCheck                              5\n",
       "RestaurantsTakeOut                     3\n",
       "BYOB                                   2\n",
       "DogsAllowed                            3\n",
       "DriveThru                              5\n",
       "RestaurantsCounterService              2\n",
       "Smoking                                4\n",
       "WiFi                                   4\n",
       "AcceptsInsurance                       4\n",
       "NoiseLevel                             5\n",
       "Caters                                 3\n",
       "GoodForDancing                         5\n",
       "RestaurantsTableService                3\n",
       "WheelchairAccessible                   3\n",
       "Ambience_classy                        2\n",
       "Ambience_trendy                        2\n",
       "Ambience_romantic                      2\n",
       "Ambience_touristy                      2\n",
       "Ambience_hipster                       2\n",
       "Ambience_intimate                      2\n",
       "Ambience_upscale                       2\n",
       "Ambience_casual                        2\n",
       "Ambience_divey                         2\n",
       "BusinessParking_garage                 2\n",
       "BusinessParking_valet                  2\n",
       "BusinessParking_street                 2\n",
       "BusinessParking_lot                    2\n",
       "BusinessParking_validated              2\n",
       "GoodForMeal_breakfast                  2\n",
       "GoodForMeal_dessert                    2\n",
       "GoodForMeal_lunch                      2\n",
       "GoodForMeal_latenight                  2\n",
       "GoodForMeal_brunch                     2\n",
       "GoodForMeal_dinner                     2\n",
       "BestNights_monday                      2\n",
       "BestNights_sunday                      2\n",
       "BestNights_thursday                    2\n",
       "BestNights_saturday                    2\n",
       "BestNights_tuesday                     2\n",
       "BestNights_wednesday                   2\n",
       "BestNights_friday                      2\n",
       "Music_background_music                 2\n",
       "Music_no_music                         1\n",
       "Music_dj                               2\n",
       "Music_live                             2\n",
       "Music_video                            2\n",
       "Music_karaoke                          2\n",
       "Music_jukebox                          2\n",
       "DietaryRestrictions_vegan              2\n",
       "DietaryRestrictions_dairy-free         2\n",
       "DietaryRestrictions_vegetarian         2\n",
       "DietaryRestrictions_kosher             1\n",
       "DietaryRestrictions_halal              2\n",
       "DietaryRestrictions_gluten-free        2\n",
       "DietaryRestrictions_soy-free           2\n",
       "dtype: int64"
      ]
     },
     "execution_count": 13,
     "metadata": {},
     "output_type": "execute_result"
    }
   ],
   "source": [
    "df_res_attr_rest_expand.nunique()"
   ]
  },
  {
   "cell_type": "markdown",
   "metadata": {
    "ExecuteTime": {
     "end_time": "2019-10-02T22:23:27.201533Z",
     "start_time": "2019-10-02T22:23:27.096987Z"
    }
   },
   "source": [
    "### select the businesses that have more than N_REV reviews"
   ]
  },
  {
   "cell_type": "code",
   "execution_count": 14,
   "metadata": {
    "ExecuteTime": {
     "end_time": "2019-10-03T00:38:23.697139Z",
     "start_time": "2019-10-03T00:38:22.815984Z"
    }
   },
   "outputs": [],
   "source": [
    "count = (df_rev.groupby('business_id', as_index=False)\n",
    "                .agg({'stars': 'count'})\n",
    "                .rename(columns={'stars': 'count'}))\n",
    "count_ids = count[count['count'] > N_REV]['business_id']\n",
    "df_bus_rest = df_bus_rest.merge(count_ids, on='business_id')\n",
    "df_bus_cat_rest = df_bus_cat_rest.merge(count_ids, on='business_id')\n",
    "df_res_attr_rest = df_res_attr_rest.merge(count_ids, on='business_id')\n",
    "df_res_attr_rest_expand = df_res_attr_rest_expand.merge(count_ids, on='business_id')"
   ]
  },
  {
   "cell_type": "code",
   "execution_count": 15,
   "metadata": {
    "ExecuteTime": {
     "end_time": "2019-10-03T00:38:23.776527Z",
     "start_time": "2019-10-03T00:38:23.698244Z"
    }
   },
   "outputs": [
    {
     "name": "stdout",
     "output_type": "stream",
     "text": [
      "<class 'pandas.core.frame.DataFrame'>\n",
      "Int64Index: 39762 entries, 0 to 39761\n",
      "Data columns (total 75 columns):\n",
      "business_id                        39762 non-null object\n",
      "ByAppointmentOnly                  558 non-null object\n",
      "AgesAllowed                        29 non-null object\n",
      "HappyHour                          3486 non-null object\n",
      "RestaurantsPriceRange2             38898 non-null object\n",
      "HairSpecializesIn                  2 non-null object\n",
      "GoodForKids                        37878 non-null object\n",
      "Open24Hours                        7 non-null object\n",
      "OutdoorSeating                     37529 non-null object\n",
      "BusinessAcceptsBitcoin             3010 non-null object\n",
      "Alcohol                            19886 non-null object\n",
      "RestaurantsGoodForGroups           38051 non-null object\n",
      "RestaurantsReservations            37768 non-null object\n",
      "BikeParking                        32978 non-null object\n",
      "RestaurantsDelivery                37642 non-null object\n",
      "BYOBCorkage                        1281 non-null object\n",
      "Corkage                            608 non-null object\n",
      "BusinessAcceptsCreditCards         27100 non-null object\n",
      "RestaurantsAttire                  37017 non-null object\n",
      "HasTV                              36162 non-null object\n",
      "CoatCheck                          2391 non-null object\n",
      "RestaurantsTakeOut                 38593 non-null object\n",
      "BYOB                               28 non-null object\n",
      "DogsAllowed                        3491 non-null object\n",
      "DriveThru                          2668 non-null object\n",
      "RestaurantsCounterService          11 non-null object\n",
      "Smoking                            2222 non-null object\n",
      "WiFi                               33881 non-null object\n",
      "AcceptsInsurance                   13 non-null object\n",
      "NoiseLevel                         33863 non-null object\n",
      "Caters                             29655 non-null object\n",
      "GoodForDancing                     3273 non-null object\n",
      "RestaurantsTableService            14666 non-null object\n",
      "WheelchairAccessible               6789 non-null object\n",
      "Ambience_classy                    36062 non-null object\n",
      "Ambience_trendy                    36062 non-null object\n",
      "Ambience_romantic                  36062 non-null object\n",
      "Ambience_touristy                  36062 non-null object\n",
      "Ambience_hipster                   35844 non-null object\n",
      "Ambience_intimate                  36062 non-null object\n",
      "Ambience_upscale                   35983 non-null object\n",
      "Ambience_casual                    36062 non-null object\n",
      "Ambience_divey                     31469 non-null object\n",
      "BusinessParking_garage             36639 non-null object\n",
      "BusinessParking_valet              36638 non-null object\n",
      "BusinessParking_street             36638 non-null object\n",
      "BusinessParking_lot                36638 non-null object\n",
      "BusinessParking_validated          36638 non-null object\n",
      "GoodForMeal_breakfast              25493 non-null object\n",
      "GoodForMeal_dessert                25493 non-null object\n",
      "GoodForMeal_lunch                  25493 non-null object\n",
      "GoodForMeal_latenight              25493 non-null object\n",
      "GoodForMeal_brunch                 25494 non-null object\n",
      "GoodForMeal_dinner                 25493 non-null object\n",
      "BestNights_monday                  2585 non-null object\n",
      "BestNights_sunday                  2585 non-null object\n",
      "BestNights_thursday                2585 non-null object\n",
      "BestNights_saturday                2585 non-null object\n",
      "BestNights_tuesday                 2585 non-null object\n",
      "BestNights_wednesday               2585 non-null object\n",
      "BestNights_friday                  2585 non-null object\n",
      "Music_background_music             3030 non-null object\n",
      "Music_no_music                     2706 non-null object\n",
      "Music_dj                           3378 non-null object\n",
      "Music_live                         3058 non-null object\n",
      "Music_video                        3032 non-null object\n",
      "Music_karaoke                      3033 non-null object\n",
      "Music_jukebox                      3047 non-null object\n",
      "DietaryRestrictions_vegan          37 non-null object\n",
      "DietaryRestrictions_dairy-free     37 non-null object\n",
      "DietaryRestrictions_vegetarian     37 non-null object\n",
      "DietaryRestrictions_kosher         37 non-null object\n",
      "DietaryRestrictions_halal          37 non-null object\n",
      "DietaryRestrictions_gluten-free    37 non-null object\n",
      "DietaryRestrictions_soy-free       37 non-null object\n",
      "dtypes: object(75)\n",
      "memory usage: 23.1+ MB\n"
     ]
    }
   ],
   "source": [
    "df_res_attr_rest_expand.info()"
   ]
  },
  {
   "cell_type": "code",
   "execution_count": 16,
   "metadata": {
    "ExecuteTime": {
     "end_time": "2019-10-03T00:38:23.862149Z",
     "start_time": "2019-10-03T00:38:23.777369Z"
    }
   },
   "outputs": [
    {
     "data": {
      "text/plain": [
       "business_id                        39762\n",
       "ByAppointmentOnly                      3\n",
       "AgesAllowed                            4\n",
       "HappyHour                              5\n",
       "RestaurantsPriceRange2                 5\n",
       "HairSpecializesIn                      2\n",
       "GoodForKids                            3\n",
       "Open24Hours                            2\n",
       "OutdoorSeating                         3\n",
       "BusinessAcceptsBitcoin                 4\n",
       "Alcohol                                4\n",
       "RestaurantsGoodForGroups               3\n",
       "RestaurantsReservations                3\n",
       "BikeParking                            3\n",
       "RestaurantsDelivery                    3\n",
       "BYOBCorkage                            4\n",
       "Corkage                                2\n",
       "BusinessAcceptsCreditCards             3\n",
       "RestaurantsAttire                      4\n",
       "HasTV                                  3\n",
       "CoatCheck                              5\n",
       "RestaurantsTakeOut                     3\n",
       "BYOB                                   2\n",
       "DogsAllowed                            3\n",
       "DriveThru                              4\n",
       "RestaurantsCounterService              2\n",
       "Smoking                                4\n",
       "WiFi                                   4\n",
       "AcceptsInsurance                       4\n",
       "NoiseLevel                             5\n",
       "Caters                                 3\n",
       "GoodForDancing                         5\n",
       "RestaurantsTableService                3\n",
       "WheelchairAccessible                   3\n",
       "Ambience_classy                        2\n",
       "Ambience_trendy                        2\n",
       "Ambience_romantic                      2\n",
       "Ambience_touristy                      2\n",
       "Ambience_hipster                       2\n",
       "Ambience_intimate                      2\n",
       "Ambience_upscale                       2\n",
       "Ambience_casual                        2\n",
       "Ambience_divey                         2\n",
       "BusinessParking_garage                 2\n",
       "BusinessParking_valet                  2\n",
       "BusinessParking_street                 2\n",
       "BusinessParking_lot                    2\n",
       "BusinessParking_validated              2\n",
       "GoodForMeal_breakfast                  2\n",
       "GoodForMeal_dessert                    2\n",
       "GoodForMeal_lunch                      2\n",
       "GoodForMeal_latenight                  2\n",
       "GoodForMeal_brunch                     2\n",
       "GoodForMeal_dinner                     2\n",
       "BestNights_monday                      2\n",
       "BestNights_sunday                      2\n",
       "BestNights_thursday                    2\n",
       "BestNights_saturday                    2\n",
       "BestNights_tuesday                     2\n",
       "BestNights_wednesday                   2\n",
       "BestNights_friday                      2\n",
       "Music_background_music                 2\n",
       "Music_no_music                         1\n",
       "Music_dj                               2\n",
       "Music_live                             2\n",
       "Music_video                            2\n",
       "Music_karaoke                          2\n",
       "Music_jukebox                          2\n",
       "DietaryRestrictions_vegan              2\n",
       "DietaryRestrictions_dairy-free         2\n",
       "DietaryRestrictions_vegetarian         2\n",
       "DietaryRestrictions_kosher             1\n",
       "DietaryRestrictions_halal              2\n",
       "DietaryRestrictions_gluten-free        2\n",
       "DietaryRestrictions_soy-free           1\n",
       "dtype: int64"
      ]
     },
     "execution_count": 16,
     "metadata": {},
     "output_type": "execute_result"
    }
   ],
   "source": [
    "df_res_attr_rest_expand.nunique()"
   ]
  },
  {
   "cell_type": "markdown",
   "metadata": {},
   "source": [
    "Notice that there are some attributes that only have 1 unique value. Find them out:"
   ]
  },
  {
   "cell_type": "code",
   "execution_count": 17,
   "metadata": {
    "ExecuteTime": {
     "end_time": "2019-10-03T00:38:24.033183Z",
     "start_time": "2019-10-03T00:38:23.863007Z"
    }
   },
   "outputs": [
    {
     "data": {
      "text/plain": [
       "['Music_no_music',\n",
       " 'DietaryRestrictions_kosher',\n",
       " 'DietaryRestrictions_soy-free']"
      ]
     },
     "execution_count": 17,
     "metadata": {},
     "output_type": "execute_result"
    }
   ],
   "source": [
    "df_res_attr_rest_expand.nunique()[(df_res_attr_rest_expand.nunique() == 1)].index.to_list()"
   ]
  },
  {
   "cell_type": "markdown",
   "metadata": {},
   "source": [
    "### process nulls, delete the attrs with too many nulls or with only 1 unique value"
   ]
  },
  {
   "cell_type": "code",
   "execution_count": 18,
   "metadata": {
    "ExecuteTime": {
     "end_time": "2019-10-03T00:38:24.293177Z",
     "start_time": "2019-10-03T00:38:24.034213Z"
    }
   },
   "outputs": [
    {
     "name": "stdout",
     "output_type": "stream",
     "text": [
      "dropped cols are:\n",
      "['ByAppointmentOnly', 'AgesAllowed', 'HappyHour', 'HairSpecializesIn', 'Open24Hours', 'BusinessAcceptsBitcoin', 'BYOBCorkage', 'Corkage', 'CoatCheck', 'BYOB', 'DogsAllowed', 'DriveThru', 'RestaurantsCounterService', 'Smoking', 'AcceptsInsurance', 'GoodForDancing', 'BestNights_monday', 'BestNights_sunday', 'BestNights_thursday', 'BestNights_saturday', 'BestNights_tuesday', 'BestNights_wednesday', 'BestNights_friday', 'Music_background_music', 'Music_no_music', 'Music_dj', 'Music_live', 'Music_video', 'Music_karaoke', 'Music_jukebox', 'DietaryRestrictions_vegan', 'DietaryRestrictions_dairy-free', 'DietaryRestrictions_vegetarian', 'DietaryRestrictions_kosher', 'DietaryRestrictions_halal', 'DietaryRestrictions_gluten-free', 'DietaryRestrictions_soy-free']\n"
     ]
    }
   ],
   "source": [
    "def nulls():\n",
    "    n_instances = df_res_attr_rest_expand.shape[0]\n",
    "    drop_cols = []\n",
    "    for col in df_res_attr_rest_expand.columns[1:]:\n",
    "        n_na = df_res_attr_rest_expand[col].isnull().sum()\n",
    "        if (n_na / n_instances) > NA_DROP_THRESHOLD:\n",
    "            drop_cols.append(col)\n",
    "    df_res_attr_rest_expand_drop = df_res_attr_rest_expand.drop(columns=drop_cols).fillna(NA_TOKEN)\n",
    "    \n",
    "    one_unique = df_res_attr_rest_expand_drop.nunique()[(df_res_attr_rest_expand_drop.nunique() == 1)].index.to_list()\n",
    "    df_res_attr_rest_expand_drop.drop(columns=one_unique, inplace=True)\n",
    "    \n",
    "    print('dropped cols are:\\n%s' % (drop_cols + one_unique))\n",
    "    \n",
    "    return df_res_attr_rest_expand_drop\n",
    "df_res_attr_rest_expand_drop = nulls()"
   ]
  },
  {
   "cell_type": "markdown",
   "metadata": {},
   "source": [
    "### To categorical, forming X and Y"
   ]
  },
  {
   "cell_type": "code",
   "execution_count": 19,
   "metadata": {
    "ExecuteTime": {
     "end_time": "2019-10-03T00:38:24.639583Z",
     "start_time": "2019-10-03T00:38:24.294311Z"
    }
   },
   "outputs": [],
   "source": [
    "for col in df_res_attr_rest_expand_drop.columns[1:]:\n",
    "    df_res_attr_rest_expand_drop[col] = df_res_attr_rest_expand_drop[col].astype('category')"
   ]
  },
  {
   "cell_type": "code",
   "execution_count": 20,
   "metadata": {
    "ExecuteTime": {
     "end_time": "2019-10-03T00:38:24.659448Z",
     "start_time": "2019-10-03T00:38:24.640689Z"
    }
   },
   "outputs": [
    {
     "data": {
      "text/html": [
       "<div>\n",
       "<style scoped>\n",
       "    .dataframe tbody tr th:only-of-type {\n",
       "        vertical-align: middle;\n",
       "    }\n",
       "\n",
       "    .dataframe tbody tr th {\n",
       "        vertical-align: top;\n",
       "    }\n",
       "\n",
       "    .dataframe thead th {\n",
       "        text-align: right;\n",
       "    }\n",
       "</style>\n",
       "<table border=\"1\" class=\"dataframe\">\n",
       "  <thead>\n",
       "    <tr style=\"text-align: right;\">\n",
       "      <th></th>\n",
       "      <th>business_id</th>\n",
       "      <th>RestaurantsPriceRange2</th>\n",
       "      <th>GoodForKids</th>\n",
       "      <th>OutdoorSeating</th>\n",
       "      <th>Alcohol</th>\n",
       "      <th>RestaurantsGoodForGroups</th>\n",
       "      <th>RestaurantsReservations</th>\n",
       "      <th>BikeParking</th>\n",
       "      <th>RestaurantsDelivery</th>\n",
       "      <th>BusinessAcceptsCreditCards</th>\n",
       "      <th>...</th>\n",
       "      <th>BusinessParking_valet</th>\n",
       "      <th>BusinessParking_street</th>\n",
       "      <th>BusinessParking_lot</th>\n",
       "      <th>BusinessParking_validated</th>\n",
       "      <th>GoodForMeal_breakfast</th>\n",
       "      <th>GoodForMeal_dessert</th>\n",
       "      <th>GoodForMeal_lunch</th>\n",
       "      <th>GoodForMeal_latenight</th>\n",
       "      <th>GoodForMeal_brunch</th>\n",
       "      <th>GoodForMeal_dinner</th>\n",
       "    </tr>\n",
       "  </thead>\n",
       "  <tbody>\n",
       "    <tr>\n",
       "      <th>0</th>\n",
       "      <td>QXAEGFB4oINsVuTFxEYKFQ</td>\n",
       "      <td>2</td>\n",
       "      <td>True</td>\n",
       "      <td>False</td>\n",
       "      <td>full_bar</td>\n",
       "      <td>True</td>\n",
       "      <td>True</td>\n",
       "      <td>False</td>\n",
       "      <td>False</td>\n",
       "      <td>Missing</td>\n",
       "      <td>...</td>\n",
       "      <td>False</td>\n",
       "      <td>False</td>\n",
       "      <td>True</td>\n",
       "      <td>False</td>\n",
       "      <td>False</td>\n",
       "      <td>False</td>\n",
       "      <td>True</td>\n",
       "      <td>False</td>\n",
       "      <td>False</td>\n",
       "      <td>True</td>\n",
       "    </tr>\n",
       "    <tr>\n",
       "      <th>1</th>\n",
       "      <td>gnKjwL_1w79qoiV3IC_xQQ</td>\n",
       "      <td>2</td>\n",
       "      <td>True</td>\n",
       "      <td>False</td>\n",
       "      <td>beer_and_wine</td>\n",
       "      <td>True</td>\n",
       "      <td>True</td>\n",
       "      <td>True</td>\n",
       "      <td>False</td>\n",
       "      <td>True</td>\n",
       "      <td>...</td>\n",
       "      <td>False</td>\n",
       "      <td>False</td>\n",
       "      <td>True</td>\n",
       "      <td>False</td>\n",
       "      <td>False</td>\n",
       "      <td>False</td>\n",
       "      <td>True</td>\n",
       "      <td>False</td>\n",
       "      <td>False</td>\n",
       "      <td>True</td>\n",
       "    </tr>\n",
       "    <tr>\n",
       "      <th>2</th>\n",
       "      <td>1Dfx3zM-rW4n-31KeC8sJg</td>\n",
       "      <td>1</td>\n",
       "      <td>True</td>\n",
       "      <td>False</td>\n",
       "      <td>Missing</td>\n",
       "      <td>True</td>\n",
       "      <td>False</td>\n",
       "      <td>Missing</td>\n",
       "      <td>False</td>\n",
       "      <td>True</td>\n",
       "      <td>...</td>\n",
       "      <td>False</td>\n",
       "      <td>False</td>\n",
       "      <td>False</td>\n",
       "      <td>False</td>\n",
       "      <td>Missing</td>\n",
       "      <td>Missing</td>\n",
       "      <td>Missing</td>\n",
       "      <td>Missing</td>\n",
       "      <td>Missing</td>\n",
       "      <td>Missing</td>\n",
       "    </tr>\n",
       "    <tr>\n",
       "      <th>3</th>\n",
       "      <td>fweCYi8FmbJXHCqLnwuk8w</td>\n",
       "      <td>2</td>\n",
       "      <td>True</td>\n",
       "      <td>False</td>\n",
       "      <td>Missing</td>\n",
       "      <td>True</td>\n",
       "      <td>False</td>\n",
       "      <td>True</td>\n",
       "      <td>True</td>\n",
       "      <td>True</td>\n",
       "      <td>...</td>\n",
       "      <td>Missing</td>\n",
       "      <td>Missing</td>\n",
       "      <td>Missing</td>\n",
       "      <td>Missing</td>\n",
       "      <td>Missing</td>\n",
       "      <td>Missing</td>\n",
       "      <td>Missing</td>\n",
       "      <td>Missing</td>\n",
       "      <td>Missing</td>\n",
       "      <td>Missing</td>\n",
       "    </tr>\n",
       "    <tr>\n",
       "      <th>4</th>\n",
       "      <td>PZ-LZzSlhSe9utkQYU8pFg</td>\n",
       "      <td>2</td>\n",
       "      <td>True</td>\n",
       "      <td>False</td>\n",
       "      <td>full_bar</td>\n",
       "      <td>True</td>\n",
       "      <td>True</td>\n",
       "      <td>Missing</td>\n",
       "      <td>False</td>\n",
       "      <td>True</td>\n",
       "      <td>...</td>\n",
       "      <td>False</td>\n",
       "      <td>False</td>\n",
       "      <td>True</td>\n",
       "      <td>False</td>\n",
       "      <td>Missing</td>\n",
       "      <td>Missing</td>\n",
       "      <td>Missing</td>\n",
       "      <td>Missing</td>\n",
       "      <td>Missing</td>\n",
       "      <td>Missing</td>\n",
       "    </tr>\n",
       "  </tbody>\n",
       "</table>\n",
       "<p>5 rows × 38 columns</p>\n",
       "</div>"
      ],
      "text/plain": [
       "              business_id RestaurantsPriceRange2 GoodForKids OutdoorSeating  \\\n",
       "0  QXAEGFB4oINsVuTFxEYKFQ                      2        True          False   \n",
       "1  gnKjwL_1w79qoiV3IC_xQQ                      2        True          False   \n",
       "2  1Dfx3zM-rW4n-31KeC8sJg                      1        True          False   \n",
       "3  fweCYi8FmbJXHCqLnwuk8w                      2        True          False   \n",
       "4  PZ-LZzSlhSe9utkQYU8pFg                      2        True          False   \n",
       "\n",
       "         Alcohol RestaurantsGoodForGroups RestaurantsReservations BikeParking  \\\n",
       "0       full_bar                     True                    True       False   \n",
       "1  beer_and_wine                     True                    True        True   \n",
       "2        Missing                     True                   False     Missing   \n",
       "3        Missing                     True                   False        True   \n",
       "4       full_bar                     True                    True     Missing   \n",
       "\n",
       "  RestaurantsDelivery BusinessAcceptsCreditCards  ... BusinessParking_valet  \\\n",
       "0               False                    Missing  ...                 False   \n",
       "1               False                       True  ...                 False   \n",
       "2               False                       True  ...                 False   \n",
       "3                True                       True  ...               Missing   \n",
       "4               False                       True  ...                 False   \n",
       "\n",
       "  BusinessParking_street BusinessParking_lot BusinessParking_validated  \\\n",
       "0                  False                True                     False   \n",
       "1                  False                True                     False   \n",
       "2                  False               False                     False   \n",
       "3                Missing             Missing                   Missing   \n",
       "4                  False                True                     False   \n",
       "\n",
       "  GoodForMeal_breakfast GoodForMeal_dessert GoodForMeal_lunch  \\\n",
       "0                 False               False              True   \n",
       "1                 False               False              True   \n",
       "2               Missing             Missing           Missing   \n",
       "3               Missing             Missing           Missing   \n",
       "4               Missing             Missing           Missing   \n",
       "\n",
       "  GoodForMeal_latenight GoodForMeal_brunch GoodForMeal_dinner  \n",
       "0                 False              False               True  \n",
       "1                 False              False               True  \n",
       "2               Missing            Missing            Missing  \n",
       "3               Missing            Missing            Missing  \n",
       "4               Missing            Missing            Missing  \n",
       "\n",
       "[5 rows x 38 columns]"
      ]
     },
     "execution_count": 20,
     "metadata": {},
     "output_type": "execute_result"
    }
   ],
   "source": [
    "df_res_attr_rest_expand_drop.head()"
   ]
  },
  {
   "cell_type": "code",
   "execution_count": 21,
   "metadata": {
    "ExecuteTime": {
     "end_time": "2019-10-03T00:38:24.670413Z",
     "start_time": "2019-10-03T00:38:24.660437Z"
    }
   },
   "outputs": [],
   "source": [
    "X = df_res_attr_rest_expand_drop.set_index('business_id')"
   ]
  },
  {
   "cell_type": "code",
   "execution_count": 22,
   "metadata": {
    "ExecuteTime": {
     "end_time": "2019-10-03T00:38:24.702336Z",
     "start_time": "2019-10-03T00:38:24.671218Z"
    }
   },
   "outputs": [],
   "source": [
    "Y = pd.merge(df_bus_rest[['business_id', 'stars']], df_res_attr_rest_expand_drop['business_id'], on='business_id').set_index('business_id')"
   ]
  },
  {
   "cell_type": "code",
   "execution_count": 23,
   "metadata": {
    "ExecuteTime": {
     "end_time": "2019-10-03T00:38:24.923708Z",
     "start_time": "2019-10-03T00:38:24.703256Z"
    }
   },
   "outputs": [],
   "source": [
    "save_df(X, 'X.csv', index=True)\n",
    "save_df(Y, 'Y.csv', index=True)"
   ]
  },
  {
   "cell_type": "markdown",
   "metadata": {},
   "source": [
    "## functions to load X and Y"
   ]
  },
  {
   "cell_type": "code",
   "execution_count": 24,
   "metadata": {
    "ExecuteTime": {
     "end_time": "2019-10-03T00:38:24.927002Z",
     "start_time": "2019-10-03T00:38:24.924825Z"
    }
   },
   "outputs": [],
   "source": [
    "def load_XY():\n",
    "    X = pd.read_csv('data/case1/X.csv', index_col='business_id')\n",
    "    Y = pd.read_csv('data/case1/Y.csv', index_col='business_id')\n",
    "    return X, Y"
   ]
  },
  {
   "cell_type": "code",
   "execution_count": 25,
   "metadata": {
    "ExecuteTime": {
     "end_time": "2019-10-03T00:38:25.081870Z",
     "start_time": "2019-10-03T00:38:24.928490Z"
    }
   },
   "outputs": [],
   "source": [
    "X, Y = load_XY()"
   ]
  },
  {
   "cell_type": "code",
   "execution_count": 26,
   "metadata": {
    "ExecuteTime": {
     "end_time": "2019-10-03T00:38:25.094831Z",
     "start_time": "2019-10-03T00:38:25.082977Z"
    }
   },
   "outputs": [
    {
     "data": {
      "text/html": [
       "<div>\n",
       "<style scoped>\n",
       "    .dataframe tbody tr th:only-of-type {\n",
       "        vertical-align: middle;\n",
       "    }\n",
       "\n",
       "    .dataframe tbody tr th {\n",
       "        vertical-align: top;\n",
       "    }\n",
       "\n",
       "    .dataframe thead th {\n",
       "        text-align: right;\n",
       "    }\n",
       "</style>\n",
       "<table border=\"1\" class=\"dataframe\">\n",
       "  <thead>\n",
       "    <tr style=\"text-align: right;\">\n",
       "      <th></th>\n",
       "      <th>RestaurantsPriceRange2</th>\n",
       "      <th>GoodForKids</th>\n",
       "      <th>OutdoorSeating</th>\n",
       "      <th>Alcohol</th>\n",
       "      <th>RestaurantsGoodForGroups</th>\n",
       "      <th>RestaurantsReservations</th>\n",
       "      <th>BikeParking</th>\n",
       "      <th>RestaurantsDelivery</th>\n",
       "      <th>BusinessAcceptsCreditCards</th>\n",
       "      <th>RestaurantsAttire</th>\n",
       "      <th>...</th>\n",
       "      <th>BusinessParking_valet</th>\n",
       "      <th>BusinessParking_street</th>\n",
       "      <th>BusinessParking_lot</th>\n",
       "      <th>BusinessParking_validated</th>\n",
       "      <th>GoodForMeal_breakfast</th>\n",
       "      <th>GoodForMeal_dessert</th>\n",
       "      <th>GoodForMeal_lunch</th>\n",
       "      <th>GoodForMeal_latenight</th>\n",
       "      <th>GoodForMeal_brunch</th>\n",
       "      <th>GoodForMeal_dinner</th>\n",
       "    </tr>\n",
       "    <tr>\n",
       "      <th>business_id</th>\n",
       "      <th></th>\n",
       "      <th></th>\n",
       "      <th></th>\n",
       "      <th></th>\n",
       "      <th></th>\n",
       "      <th></th>\n",
       "      <th></th>\n",
       "      <th></th>\n",
       "      <th></th>\n",
       "      <th></th>\n",
       "      <th></th>\n",
       "      <th></th>\n",
       "      <th></th>\n",
       "      <th></th>\n",
       "      <th></th>\n",
       "      <th></th>\n",
       "      <th></th>\n",
       "      <th></th>\n",
       "      <th></th>\n",
       "      <th></th>\n",
       "      <th></th>\n",
       "    </tr>\n",
       "  </thead>\n",
       "  <tbody>\n",
       "    <tr>\n",
       "      <th>QXAEGFB4oINsVuTFxEYKFQ</th>\n",
       "      <td>2</td>\n",
       "      <td>True</td>\n",
       "      <td>False</td>\n",
       "      <td>full_bar</td>\n",
       "      <td>True</td>\n",
       "      <td>True</td>\n",
       "      <td>False</td>\n",
       "      <td>False</td>\n",
       "      <td>Missing</td>\n",
       "      <td>casual</td>\n",
       "      <td>...</td>\n",
       "      <td>False</td>\n",
       "      <td>False</td>\n",
       "      <td>True</td>\n",
       "      <td>False</td>\n",
       "      <td>False</td>\n",
       "      <td>False</td>\n",
       "      <td>True</td>\n",
       "      <td>False</td>\n",
       "      <td>False</td>\n",
       "      <td>True</td>\n",
       "    </tr>\n",
       "    <tr>\n",
       "      <th>gnKjwL_1w79qoiV3IC_xQQ</th>\n",
       "      <td>2</td>\n",
       "      <td>True</td>\n",
       "      <td>False</td>\n",
       "      <td>beer_and_wine</td>\n",
       "      <td>True</td>\n",
       "      <td>True</td>\n",
       "      <td>True</td>\n",
       "      <td>False</td>\n",
       "      <td>True</td>\n",
       "      <td>casual</td>\n",
       "      <td>...</td>\n",
       "      <td>False</td>\n",
       "      <td>False</td>\n",
       "      <td>True</td>\n",
       "      <td>False</td>\n",
       "      <td>False</td>\n",
       "      <td>False</td>\n",
       "      <td>True</td>\n",
       "      <td>False</td>\n",
       "      <td>False</td>\n",
       "      <td>True</td>\n",
       "    </tr>\n",
       "    <tr>\n",
       "      <th>1Dfx3zM-rW4n-31KeC8sJg</th>\n",
       "      <td>1</td>\n",
       "      <td>True</td>\n",
       "      <td>False</td>\n",
       "      <td>Missing</td>\n",
       "      <td>True</td>\n",
       "      <td>False</td>\n",
       "      <td>Missing</td>\n",
       "      <td>False</td>\n",
       "      <td>True</td>\n",
       "      <td>casual</td>\n",
       "      <td>...</td>\n",
       "      <td>False</td>\n",
       "      <td>False</td>\n",
       "      <td>False</td>\n",
       "      <td>False</td>\n",
       "      <td>Missing</td>\n",
       "      <td>Missing</td>\n",
       "      <td>Missing</td>\n",
       "      <td>Missing</td>\n",
       "      <td>Missing</td>\n",
       "      <td>Missing</td>\n",
       "    </tr>\n",
       "    <tr>\n",
       "      <th>fweCYi8FmbJXHCqLnwuk8w</th>\n",
       "      <td>2</td>\n",
       "      <td>True</td>\n",
       "      <td>False</td>\n",
       "      <td>Missing</td>\n",
       "      <td>True</td>\n",
       "      <td>False</td>\n",
       "      <td>True</td>\n",
       "      <td>True</td>\n",
       "      <td>True</td>\n",
       "      <td>casual</td>\n",
       "      <td>...</td>\n",
       "      <td>Missing</td>\n",
       "      <td>Missing</td>\n",
       "      <td>Missing</td>\n",
       "      <td>Missing</td>\n",
       "      <td>Missing</td>\n",
       "      <td>Missing</td>\n",
       "      <td>Missing</td>\n",
       "      <td>Missing</td>\n",
       "      <td>Missing</td>\n",
       "      <td>Missing</td>\n",
       "    </tr>\n",
       "    <tr>\n",
       "      <th>PZ-LZzSlhSe9utkQYU8pFg</th>\n",
       "      <td>2</td>\n",
       "      <td>True</td>\n",
       "      <td>False</td>\n",
       "      <td>full_bar</td>\n",
       "      <td>True</td>\n",
       "      <td>True</td>\n",
       "      <td>Missing</td>\n",
       "      <td>False</td>\n",
       "      <td>True</td>\n",
       "      <td>casual</td>\n",
       "      <td>...</td>\n",
       "      <td>False</td>\n",
       "      <td>False</td>\n",
       "      <td>True</td>\n",
       "      <td>False</td>\n",
       "      <td>Missing</td>\n",
       "      <td>Missing</td>\n",
       "      <td>Missing</td>\n",
       "      <td>Missing</td>\n",
       "      <td>Missing</td>\n",
       "      <td>Missing</td>\n",
       "    </tr>\n",
       "  </tbody>\n",
       "</table>\n",
       "<p>5 rows × 37 columns</p>\n",
       "</div>"
      ],
      "text/plain": [
       "                       RestaurantsPriceRange2 GoodForKids OutdoorSeating  \\\n",
       "business_id                                                                \n",
       "QXAEGFB4oINsVuTFxEYKFQ                      2        True          False   \n",
       "gnKjwL_1w79qoiV3IC_xQQ                      2        True          False   \n",
       "1Dfx3zM-rW4n-31KeC8sJg                      1        True          False   \n",
       "fweCYi8FmbJXHCqLnwuk8w                      2        True          False   \n",
       "PZ-LZzSlhSe9utkQYU8pFg                      2        True          False   \n",
       "\n",
       "                              Alcohol RestaurantsGoodForGroups  \\\n",
       "business_id                                                      \n",
       "QXAEGFB4oINsVuTFxEYKFQ       full_bar                     True   \n",
       "gnKjwL_1w79qoiV3IC_xQQ  beer_and_wine                     True   \n",
       "1Dfx3zM-rW4n-31KeC8sJg        Missing                     True   \n",
       "fweCYi8FmbJXHCqLnwuk8w        Missing                     True   \n",
       "PZ-LZzSlhSe9utkQYU8pFg       full_bar                     True   \n",
       "\n",
       "                       RestaurantsReservations BikeParking  \\\n",
       "business_id                                                  \n",
       "QXAEGFB4oINsVuTFxEYKFQ                    True       False   \n",
       "gnKjwL_1w79qoiV3IC_xQQ                    True        True   \n",
       "1Dfx3zM-rW4n-31KeC8sJg                   False     Missing   \n",
       "fweCYi8FmbJXHCqLnwuk8w                   False        True   \n",
       "PZ-LZzSlhSe9utkQYU8pFg                    True     Missing   \n",
       "\n",
       "                       RestaurantsDelivery BusinessAcceptsCreditCards  \\\n",
       "business_id                                                             \n",
       "QXAEGFB4oINsVuTFxEYKFQ               False                    Missing   \n",
       "gnKjwL_1w79qoiV3IC_xQQ               False                       True   \n",
       "1Dfx3zM-rW4n-31KeC8sJg               False                       True   \n",
       "fweCYi8FmbJXHCqLnwuk8w                True                       True   \n",
       "PZ-LZzSlhSe9utkQYU8pFg               False                       True   \n",
       "\n",
       "                       RestaurantsAttire  ... BusinessParking_valet  \\\n",
       "business_id                               ...                         \n",
       "QXAEGFB4oINsVuTFxEYKFQ            casual  ...                 False   \n",
       "gnKjwL_1w79qoiV3IC_xQQ            casual  ...                 False   \n",
       "1Dfx3zM-rW4n-31KeC8sJg            casual  ...                 False   \n",
       "fweCYi8FmbJXHCqLnwuk8w            casual  ...               Missing   \n",
       "PZ-LZzSlhSe9utkQYU8pFg            casual  ...                 False   \n",
       "\n",
       "                       BusinessParking_street BusinessParking_lot  \\\n",
       "business_id                                                         \n",
       "QXAEGFB4oINsVuTFxEYKFQ                  False                True   \n",
       "gnKjwL_1w79qoiV3IC_xQQ                  False                True   \n",
       "1Dfx3zM-rW4n-31KeC8sJg                  False               False   \n",
       "fweCYi8FmbJXHCqLnwuk8w                Missing             Missing   \n",
       "PZ-LZzSlhSe9utkQYU8pFg                  False                True   \n",
       "\n",
       "                       BusinessParking_validated GoodForMeal_breakfast  \\\n",
       "business_id                                                              \n",
       "QXAEGFB4oINsVuTFxEYKFQ                     False                 False   \n",
       "gnKjwL_1w79qoiV3IC_xQQ                     False                 False   \n",
       "1Dfx3zM-rW4n-31KeC8sJg                     False               Missing   \n",
       "fweCYi8FmbJXHCqLnwuk8w                   Missing               Missing   \n",
       "PZ-LZzSlhSe9utkQYU8pFg                     False               Missing   \n",
       "\n",
       "                       GoodForMeal_dessert GoodForMeal_lunch  \\\n",
       "business_id                                                    \n",
       "QXAEGFB4oINsVuTFxEYKFQ               False              True   \n",
       "gnKjwL_1w79qoiV3IC_xQQ               False              True   \n",
       "1Dfx3zM-rW4n-31KeC8sJg             Missing           Missing   \n",
       "fweCYi8FmbJXHCqLnwuk8w             Missing           Missing   \n",
       "PZ-LZzSlhSe9utkQYU8pFg             Missing           Missing   \n",
       "\n",
       "                       GoodForMeal_latenight GoodForMeal_brunch  \\\n",
       "business_id                                                       \n",
       "QXAEGFB4oINsVuTFxEYKFQ                 False              False   \n",
       "gnKjwL_1w79qoiV3IC_xQQ                 False              False   \n",
       "1Dfx3zM-rW4n-31KeC8sJg               Missing            Missing   \n",
       "fweCYi8FmbJXHCqLnwuk8w               Missing            Missing   \n",
       "PZ-LZzSlhSe9utkQYU8pFg               Missing            Missing   \n",
       "\n",
       "                       GoodForMeal_dinner  \n",
       "business_id                                \n",
       "QXAEGFB4oINsVuTFxEYKFQ               True  \n",
       "gnKjwL_1w79qoiV3IC_xQQ               True  \n",
       "1Dfx3zM-rW4n-31KeC8sJg            Missing  \n",
       "fweCYi8FmbJXHCqLnwuk8w            Missing  \n",
       "PZ-LZzSlhSe9utkQYU8pFg            Missing  \n",
       "\n",
       "[5 rows x 37 columns]"
      ]
     },
     "execution_count": 26,
     "metadata": {},
     "output_type": "execute_result"
    }
   ],
   "source": [
    "X.head()"
   ]
  },
  {
   "cell_type": "code",
   "execution_count": 27,
   "metadata": {
    "ExecuteTime": {
     "end_time": "2019-10-03T00:38:25.141579Z",
     "start_time": "2019-10-03T00:38:25.095642Z"
    }
   },
   "outputs": [
    {
     "name": "stdout",
     "output_type": "stream",
     "text": [
      "<class 'pandas.core.frame.DataFrame'>\n",
      "Index: 39762 entries, QXAEGFB4oINsVuTFxEYKFQ to p1eUTUB_5hf1enoKYBV3DA\n",
      "Data columns (total 37 columns):\n",
      "RestaurantsPriceRange2        39762 non-null object\n",
      "GoodForKids                   39762 non-null object\n",
      "OutdoorSeating                39762 non-null object\n",
      "Alcohol                       39762 non-null object\n",
      "RestaurantsGoodForGroups      39762 non-null object\n",
      "RestaurantsReservations       39762 non-null object\n",
      "BikeParking                   39762 non-null object\n",
      "RestaurantsDelivery           39762 non-null object\n",
      "BusinessAcceptsCreditCards    39762 non-null object\n",
      "RestaurantsAttire             39762 non-null object\n",
      "HasTV                         39762 non-null object\n",
      "RestaurantsTakeOut            39762 non-null object\n",
      "WiFi                          39762 non-null object\n",
      "NoiseLevel                    39762 non-null object\n",
      "Caters                        39762 non-null object\n",
      "RestaurantsTableService       39762 non-null object\n",
      "WheelchairAccessible          39762 non-null object\n",
      "Ambience_classy               39762 non-null object\n",
      "Ambience_trendy               39762 non-null object\n",
      "Ambience_romantic             39762 non-null object\n",
      "Ambience_touristy             39762 non-null object\n",
      "Ambience_hipster              39762 non-null object\n",
      "Ambience_intimate             39762 non-null object\n",
      "Ambience_upscale              39762 non-null object\n",
      "Ambience_casual               39762 non-null object\n",
      "Ambience_divey                39762 non-null object\n",
      "BusinessParking_garage        39762 non-null object\n",
      "BusinessParking_valet         39762 non-null object\n",
      "BusinessParking_street        39762 non-null object\n",
      "BusinessParking_lot           39762 non-null object\n",
      "BusinessParking_validated     39762 non-null object\n",
      "GoodForMeal_breakfast         39762 non-null object\n",
      "GoodForMeal_dessert           39762 non-null object\n",
      "GoodForMeal_lunch             39762 non-null object\n",
      "GoodForMeal_latenight         39762 non-null object\n",
      "GoodForMeal_brunch            39762 non-null object\n",
      "GoodForMeal_dinner            39762 non-null object\n",
      "dtypes: object(37)\n",
      "memory usage: 11.5+ MB\n"
     ]
    }
   ],
   "source": [
    "X.info()"
   ]
  },
  {
   "cell_type": "code",
   "execution_count": 28,
   "metadata": {
    "ExecuteTime": {
     "end_time": "2019-10-03T00:38:25.178605Z",
     "start_time": "2019-10-03T00:38:25.142559Z"
    }
   },
   "outputs": [
    {
     "data": {
      "text/plain": [
       "RestaurantsPriceRange2        6\n",
       "GoodForKids                   4\n",
       "OutdoorSeating                4\n",
       "Alcohol                       4\n",
       "RestaurantsGoodForGroups      4\n",
       "RestaurantsReservations       4\n",
       "BikeParking                   4\n",
       "RestaurantsDelivery           4\n",
       "BusinessAcceptsCreditCards    4\n",
       "RestaurantsAttire             5\n",
       "HasTV                         4\n",
       "RestaurantsTakeOut            4\n",
       "WiFi                          5\n",
       "NoiseLevel                    6\n",
       "Caters                        4\n",
       "RestaurantsTableService       4\n",
       "WheelchairAccessible          4\n",
       "Ambience_classy               3\n",
       "Ambience_trendy               3\n",
       "Ambience_romantic             3\n",
       "Ambience_touristy             3\n",
       "Ambience_hipster              3\n",
       "Ambience_intimate             3\n",
       "Ambience_upscale              3\n",
       "Ambience_casual               3\n",
       "Ambience_divey                3\n",
       "BusinessParking_garage        3\n",
       "BusinessParking_valet         3\n",
       "BusinessParking_street        3\n",
       "BusinessParking_lot           3\n",
       "BusinessParking_validated     3\n",
       "GoodForMeal_breakfast         3\n",
       "GoodForMeal_dessert           3\n",
       "GoodForMeal_lunch             3\n",
       "GoodForMeal_latenight         3\n",
       "GoodForMeal_brunch            3\n",
       "GoodForMeal_dinner            3\n",
       "dtype: int64"
      ]
     },
     "execution_count": 28,
     "metadata": {},
     "output_type": "execute_result"
    }
   ],
   "source": [
    "X.nunique()"
   ]
  },
  {
   "cell_type": "code",
   "execution_count": 29,
   "metadata": {
    "ExecuteTime": {
     "end_time": "2019-10-03T00:38:25.183038Z",
     "start_time": "2019-10-03T00:38:25.179504Z"
    }
   },
   "outputs": [
    {
     "data": {
      "text/html": [
       "<div>\n",
       "<style scoped>\n",
       "    .dataframe tbody tr th:only-of-type {\n",
       "        vertical-align: middle;\n",
       "    }\n",
       "\n",
       "    .dataframe tbody tr th {\n",
       "        vertical-align: top;\n",
       "    }\n",
       "\n",
       "    .dataframe thead th {\n",
       "        text-align: right;\n",
       "    }\n",
       "</style>\n",
       "<table border=\"1\" class=\"dataframe\">\n",
       "  <thead>\n",
       "    <tr style=\"text-align: right;\">\n",
       "      <th></th>\n",
       "      <th>stars</th>\n",
       "    </tr>\n",
       "    <tr>\n",
       "      <th>business_id</th>\n",
       "      <th></th>\n",
       "    </tr>\n",
       "  </thead>\n",
       "  <tbody>\n",
       "    <tr>\n",
       "      <th>QXAEGFB4oINsVuTFxEYKFQ</th>\n",
       "      <td>2.5</td>\n",
       "    </tr>\n",
       "    <tr>\n",
       "      <th>gnKjwL_1w79qoiV3IC_xQQ</th>\n",
       "      <td>4.0</td>\n",
       "    </tr>\n",
       "    <tr>\n",
       "      <th>1Dfx3zM-rW4n-31KeC8sJg</th>\n",
       "      <td>3.0</td>\n",
       "    </tr>\n",
       "    <tr>\n",
       "      <th>fweCYi8FmbJXHCqLnwuk8w</th>\n",
       "      <td>4.0</td>\n",
       "    </tr>\n",
       "    <tr>\n",
       "      <th>PZ-LZzSlhSe9utkQYU8pFg</th>\n",
       "      <td>4.0</td>\n",
       "    </tr>\n",
       "  </tbody>\n",
       "</table>\n",
       "</div>"
      ],
      "text/plain": [
       "                        stars\n",
       "business_id                  \n",
       "QXAEGFB4oINsVuTFxEYKFQ    2.5\n",
       "gnKjwL_1w79qoiV3IC_xQQ    4.0\n",
       "1Dfx3zM-rW4n-31KeC8sJg    3.0\n",
       "fweCYi8FmbJXHCqLnwuk8w    4.0\n",
       "PZ-LZzSlhSe9utkQYU8pFg    4.0"
      ]
     },
     "execution_count": 29,
     "metadata": {},
     "output_type": "execute_result"
    }
   ],
   "source": [
    "Y.head()"
   ]
  },
  {
   "cell_type": "markdown",
   "metadata": {},
   "source": [
    "# Data Exploration: Exploring the Yelp Dataset\n",
    "\n",
    "**(1) Finding the most popular business categories:** \n",
    "* print the top 10 most popular business categories in the dataset and their counts (i.e., how many business objects in each category). Here we say a category is \"popular\" if there are many business objects in this category (such as 'restaurants')."
   ]
  },
  {
   "cell_type": "code",
   "execution_count": 30,
   "metadata": {
    "ExecuteTime": {
     "end_time": "2019-10-03T00:38:25.238294Z",
     "start_time": "2019-10-03T00:38:25.183767Z"
    }
   },
   "outputs": [
    {
     "data": {
      "text/html": [
       "<div>\n",
       "<style scoped>\n",
       "    .dataframe tbody tr th:only-of-type {\n",
       "        vertical-align: middle;\n",
       "    }\n",
       "\n",
       "    .dataframe tbody tr th {\n",
       "        vertical-align: top;\n",
       "    }\n",
       "\n",
       "    .dataframe thead th {\n",
       "        text-align: right;\n",
       "    }\n",
       "</style>\n",
       "<table border=\"1\" class=\"dataframe\">\n",
       "  <thead>\n",
       "    <tr style=\"text-align: right;\">\n",
       "      <th></th>\n",
       "      <th>category</th>\n",
       "      <th>count</th>\n",
       "    </tr>\n",
       "  </thead>\n",
       "  <tbody>\n",
       "    <tr>\n",
       "      <th>1004</th>\n",
       "      <td>Restaurants</td>\n",
       "      <td>59371</td>\n",
       "    </tr>\n",
       "    <tr>\n",
       "      <th>1057</th>\n",
       "      <td>Shopping</td>\n",
       "      <td>31878</td>\n",
       "    </tr>\n",
       "    <tr>\n",
       "      <th>462</th>\n",
       "      <td>Food</td>\n",
       "      <td>29989</td>\n",
       "    </tr>\n",
       "    <tr>\n",
       "      <th>579</th>\n",
       "      <td>Home Services</td>\n",
       "      <td>19729</td>\n",
       "    </tr>\n",
       "    <tr>\n",
       "      <th>116</th>\n",
       "      <td>Beauty &amp; Spas</td>\n",
       "      <td>19370</td>\n",
       "    </tr>\n",
       "    <tr>\n",
       "      <th>546</th>\n",
       "      <td>Health &amp; Medical</td>\n",
       "      <td>17171</td>\n",
       "    </tr>\n",
       "    <tr>\n",
       "      <th>706</th>\n",
       "      <td>Local Services</td>\n",
       "      <td>13932</td>\n",
       "    </tr>\n",
       "    <tr>\n",
       "      <th>84</th>\n",
       "      <td>Automotive</td>\n",
       "      <td>13203</td>\n",
       "    </tr>\n",
       "    <tr>\n",
       "      <th>803</th>\n",
       "      <td>Nightlife</td>\n",
       "      <td>13095</td>\n",
       "    </tr>\n",
       "    <tr>\n",
       "      <th>104</th>\n",
       "      <td>Bars</td>\n",
       "      <td>11341</td>\n",
       "    </tr>\n",
       "  </tbody>\n",
       "</table>\n",
       "</div>"
      ],
      "text/plain": [
       "              category  count\n",
       "1004       Restaurants  59371\n",
       "1057          Shopping  31878\n",
       "462               Food  29989\n",
       "579      Home Services  19729\n",
       "116      Beauty & Spas  19370\n",
       "546   Health & Medical  17171\n",
       "706     Local Services  13932\n",
       "84          Automotive  13203\n",
       "803          Nightlife  13095\n",
       "104               Bars  11341"
      ]
     },
     "execution_count": 30,
     "metadata": {},
     "output_type": "execute_result"
    }
   ],
   "source": [
    "# Your code starts here\n",
    "#   Please add comments or text cells in between to explain the general idea of each block of the code.\n",
    "#   Please feel free to add more cells below this cell if necessary\n",
    "\n",
    "\n",
    "(df_bus_cat.groupby('category',as_index=False)\n",
    "           .count()\n",
    "           .rename(columns={'business_id':'count'})\n",
    "           .sort_values(by='count', ascending=False)[:10])\n",
    "\n",
    "\n",
    "\n",
    "\n",
    "\n",
    "\n",
    "\n",
    "\n",
    "\n",
    "\n"
   ]
  },
  {
   "cell_type": "markdown",
   "metadata": {},
   "source": [
    "** (2) Find the most popular business objects** \n",
    "* print the top 10 most popular business objects in the dataset and their counts (i.e., how many checkins in total for each business object).  Here we say a business object is \"popular\" if the business object attracts a large number of checkins from the users."
   ]
  },
  {
   "cell_type": "code",
   "execution_count": 31,
   "metadata": {
    "ExecuteTime": {
     "end_time": "2019-10-03T00:38:26.696476Z",
     "start_time": "2019-10-03T00:38:25.239197Z"
    }
   },
   "outputs": [
    {
     "data": {
      "text/html": [
       "<div>\n",
       "<style scoped>\n",
       "    .dataframe tbody tr th:only-of-type {\n",
       "        vertical-align: middle;\n",
       "    }\n",
       "\n",
       "    .dataframe tbody tr th {\n",
       "        vertical-align: top;\n",
       "    }\n",
       "\n",
       "    .dataframe thead th {\n",
       "        text-align: right;\n",
       "    }\n",
       "</style>\n",
       "<table border=\"1\" class=\"dataframe\">\n",
       "  <thead>\n",
       "    <tr style=\"text-align: right;\">\n",
       "      <th></th>\n",
       "      <th>name</th>\n",
       "      <th>count</th>\n",
       "    </tr>\n",
       "  </thead>\n",
       "  <tbody>\n",
       "    <tr>\n",
       "      <th>0</th>\n",
       "      <td>McCarran International Airport</td>\n",
       "      <td>143061</td>\n",
       "    </tr>\n",
       "    <tr>\n",
       "      <th>1</th>\n",
       "      <td>Phoenix Sky Harbor International Airport</td>\n",
       "      <td>123126</td>\n",
       "    </tr>\n",
       "    <tr>\n",
       "      <th>2</th>\n",
       "      <td>Charlotte Douglas International Airport</td>\n",
       "      <td>54787</td>\n",
       "    </tr>\n",
       "    <tr>\n",
       "      <th>3</th>\n",
       "      <td>The Cosmopolitan of Las Vegas</td>\n",
       "      <td>46384</td>\n",
       "    </tr>\n",
       "    <tr>\n",
       "      <th>4</th>\n",
       "      <td>Kung Fu Tea</td>\n",
       "      <td>38277</td>\n",
       "    </tr>\n",
       "    <tr>\n",
       "      <th>5</th>\n",
       "      <td>ARIA Resort &amp; Casino</td>\n",
       "      <td>34353</td>\n",
       "    </tr>\n",
       "    <tr>\n",
       "      <th>6</th>\n",
       "      <td>The Venetian Las Vegas</td>\n",
       "      <td>32343</td>\n",
       "    </tr>\n",
       "    <tr>\n",
       "      <th>7</th>\n",
       "      <td>Bellagio Hotel</td>\n",
       "      <td>31185</td>\n",
       "    </tr>\n",
       "    <tr>\n",
       "      <th>8</th>\n",
       "      <td>Caesars Palace Las Vegas Hotel &amp; Casino</td>\n",
       "      <td>30782</td>\n",
       "    </tr>\n",
       "    <tr>\n",
       "      <th>9</th>\n",
       "      <td>MGM Grand Hotel</td>\n",
       "      <td>30098</td>\n",
       "    </tr>\n",
       "  </tbody>\n",
       "</table>\n",
       "</div>"
      ],
      "text/plain": [
       "                                       name   count\n",
       "0            McCarran International Airport  143061\n",
       "1  Phoenix Sky Harbor International Airport  123126\n",
       "2   Charlotte Douglas International Airport   54787\n",
       "3             The Cosmopolitan of Las Vegas   46384\n",
       "4                               Kung Fu Tea   38277\n",
       "5                      ARIA Resort & Casino   34353\n",
       "6                    The Venetian Las Vegas   32343\n",
       "7                            Bellagio Hotel   31185\n",
       "8   Caesars Palace Las Vegas Hotel & Casino   30782\n",
       "9                           MGM Grand Hotel   30098"
      ]
     },
     "execution_count": 31,
     "metadata": {},
     "output_type": "execute_result"
    }
   ],
   "source": [
    "# Your code starts here\n",
    "#   Please add comments or text cells in between to explain the general idea of each block of the code.\n",
    "#   Please feel free to add more cells below this cell if necessary\n",
    "\n",
    "\n",
    "(df_chk.groupby('business_id')\n",
    "       .count()\n",
    "       .rename(columns={'date':'count'})\n",
    "       .sort_values(by='count', ascending=False)[:10]\n",
    "       .merge(df_bus, on='business_id', how='inner')[['name','count']])\n",
    "\n",
    "\n",
    "\n",
    "\n",
    "\n",
    "\n",
    "\n",
    "\n"
   ]
  },
  {
   "cell_type": "markdown",
   "metadata": {},
   "source": [
    "# The Solution: implement a data science solution to the problem you are trying to solve."
   ]
  },
  {
   "cell_type": "markdown",
   "metadata": {
    "ExecuteTime": {
     "end_time": "2019-10-02T22:29:13.742469Z",
     "start_time": "2019-10-02T22:29:13.737471Z"
    },
    "code_folding": []
   },
   "source": [
    "## Feature Engineering, XGB Regression and Feature Importance Ananlysis"
   ]
  },
  {
   "cell_type": "markdown",
   "metadata": {
    "ExecuteTime": {
     "end_time": "2019-10-02T22:30:48.454104Z",
     "start_time": "2019-10-02T22:30:48.449432Z"
    }
   },
   "source": [
    "Briefly describe the idea of your solution to the problem in the following cell:"
   ]
  },
  {
   "cell_type": "code",
   "execution_count": null,
   "metadata": {},
   "outputs": [],
   "source": [
    "\n",
    "\n",
    "\n",
    "\n",
    "\n",
    "\n",
    "\n",
    "\n",
    "\n",
    "\n"
   ]
  },
  {
   "cell_type": "markdown",
   "metadata": {},
   "source": [
    "Write codes to implement the solution in python:"
   ]
  },
  {
   "cell_type": "markdown",
   "metadata": {},
   "source": [
    "### Load Data"
   ]
  },
  {
   "cell_type": "code",
   "execution_count": 32,
   "metadata": {
    "ExecuteTime": {
     "end_time": "2019-10-03T00:38:43.641736Z",
     "start_time": "2019-10-03T00:38:43.416272Z"
    }
   },
   "outputs": [],
   "source": [
    "import pandas as pd\n",
    "import matplotlib.pyplot as plt\n",
    "import seaborn"
   ]
  },
  {
   "cell_type": "code",
   "execution_count": 33,
   "metadata": {
    "ExecuteTime": {
     "end_time": "2019-10-03T00:38:43.801848Z",
     "start_time": "2019-10-03T00:38:43.643262Z"
    }
   },
   "outputs": [],
   "source": [
    "X, Y = load_XY();"
   ]
  },
  {
   "cell_type": "code",
   "execution_count": 34,
   "metadata": {
    "ExecuteTime": {
     "end_time": "2019-10-03T00:38:43.861197Z",
     "start_time": "2019-10-03T00:38:43.838357Z"
    }
   },
   "outputs": [
    {
     "data": {
      "text/plain": [
       "['RestaurantsPriceRange2',\n",
       " 'GoodForKids',\n",
       " 'OutdoorSeating',\n",
       " 'Alcohol',\n",
       " 'RestaurantsGoodForGroups',\n",
       " 'RestaurantsReservations',\n",
       " 'BikeParking',\n",
       " 'RestaurantsDelivery',\n",
       " 'BusinessAcceptsCreditCards',\n",
       " 'RestaurantsAttire',\n",
       " 'HasTV',\n",
       " 'RestaurantsTakeOut',\n",
       " 'WiFi',\n",
       " 'NoiseLevel',\n",
       " 'Caters',\n",
       " 'RestaurantsTableService',\n",
       " 'WheelchairAccessible',\n",
       " 'Ambience_classy',\n",
       " 'Ambience_trendy',\n",
       " 'Ambience_romantic',\n",
       " 'Ambience_touristy',\n",
       " 'Ambience_hipster',\n",
       " 'Ambience_intimate',\n",
       " 'Ambience_upscale',\n",
       " 'Ambience_casual',\n",
       " 'Ambience_divey',\n",
       " 'BusinessParking_garage',\n",
       " 'BusinessParking_valet',\n",
       " 'BusinessParking_street',\n",
       " 'BusinessParking_lot',\n",
       " 'BusinessParking_validated',\n",
       " 'GoodForMeal_breakfast',\n",
       " 'GoodForMeal_dessert',\n",
       " 'GoodForMeal_lunch',\n",
       " 'GoodForMeal_latenight',\n",
       " 'GoodForMeal_brunch',\n",
       " 'GoodForMeal_dinner',\n",
       " 'stars']"
      ]
     },
     "execution_count": 34,
     "metadata": {},
     "output_type": "execute_result"
    }
   ],
   "source": [
    "Data = X.merge(Y,left_index=True, right_index=True)\n",
    "col_names = list(Data.columns)\n",
    "col_names"
   ]
  },
  {
   "cell_type": "markdown",
   "metadata": {},
   "source": [
    "### Data Cleanning"
   ]
  },
  {
   "cell_type": "code",
   "execution_count": 35,
   "metadata": {
    "ExecuteTime": {
     "end_time": "2019-10-03T00:38:44.294340Z",
     "start_time": "2019-10-03T00:38:44.250685Z"
    }
   },
   "outputs": [],
   "source": [
    "for feature in col_names:\n",
    "    Data[feature].replace(\"None\",'Missing',inplace=True)"
   ]
  },
  {
   "cell_type": "code",
   "execution_count": 36,
   "metadata": {
    "ExecuteTime": {
     "end_time": "2019-10-03T00:38:44.535780Z",
     "start_time": "2019-10-03T00:38:44.468950Z"
    }
   },
   "outputs": [],
   "source": [
    "Data['Alcohol'].replace(\"u'beer_and_wine'\",\"beer_and_wine\",inplace=True)\n",
    "Data['Alcohol'].replace(\"'beer_and_wine'\",\"beer_and_wine\",inplace=True)\n",
    "Data['Alcohol'].replace(\"u'none'\",\"none\",inplace=True)\n",
    "Data['Alcohol'].replace(\"'none'\",\"none\",inplace=True)\n",
    "Data['Alcohol'].replace(\"u'full_bar'\",\"full_bar\",inplace=True)\n",
    "Data['Alcohol'].replace(\"'full_bar'\",\"full_bar\",inplace=True)\n",
    "\n",
    "Data['WiFi'].replace(\"u'no'\",\"'no'\",inplace=True)\n",
    "Data['WiFi'].replace(\"u'free'\",\"free\",inplace=True)\n",
    "Data['WiFi'].replace(\"u'paid'\",\"paid\",inplace=True)\n",
    "Data['WiFi'].replace(\"'no'\",'no',inplace=True)\n",
    "Data['WiFi'].replace(\"'free'\",'free',inplace=True)\n",
    "Data['WiFi'].replace(\"'paid'\",'paid',inplace=True)\n",
    "\n",
    "Data['NoiseLevel'].replace(\"u'loud'\",\"loud\",inplace=True)\n",
    "Data['NoiseLevel'].replace(\"u'quiet'\",\"quiet\",inplace=True)\n",
    "Data['NoiseLevel'].replace(\"u'average'\",\"average\",inplace=True)\n",
    "Data['NoiseLevel'].replace(\"u'very_loud'\",'very_loud',inplace=True)\n",
    "Data['NoiseLevel'].replace(\"'loud'\",\"loud\",inplace=True)\n",
    "Data['NoiseLevel'].replace(\"'quiet'\",\"quiet\",inplace=True)\n",
    "Data['NoiseLevel'].replace(\"'average'\",\"average\",inplace=True)\n",
    "Data['NoiseLevel'].replace(\"'very_loud'\",'very_loud',inplace=True)\n",
    "\n",
    "Data['RestaurantsAttire'].replace(\"u'casual'\",\"casual\",inplace=True)\n",
    "Data['RestaurantsAttire'].replace(\"'casual'\",\"casual\",inplace=True)\n",
    "Data['RestaurantsAttire'].replace(\"u'dressy'\",\"dressy\",inplace=True)\n",
    "Data['RestaurantsAttire'].replace(\"'dressy'\",\"dressy\",inplace=True)\n",
    "Data['RestaurantsAttire'].replace(\"u'formal'\",\"formal\",inplace=True)\n",
    "Data['RestaurantsAttire'].replace(\"'formal'\",\"formal\",inplace=True)"
   ]
  },
  {
   "cell_type": "markdown",
   "metadata": {},
   "source": [
    "### Boxplot and feature selection"
   ]
  },
  {
   "cell_type": "code",
   "execution_count": 37,
   "metadata": {
    "ExecuteTime": {
     "end_time": "2019-10-03T00:38:44.875745Z",
     "start_time": "2019-10-03T00:38:44.870153Z"
    }
   },
   "outputs": [],
   "source": [
    "useful = []"
   ]
  },
  {
   "cell_type": "code",
   "execution_count": 38,
   "metadata": {
    "ExecuteTime": {
     "end_time": "2019-10-03T00:38:45.530682Z",
     "start_time": "2019-10-03T00:38:45.067323Z"
    }
   },
   "outputs": [
    {
     "data": {
      "text/plain": [
       "Text(0.5, 0.98, '')"
      ]
     },
     "execution_count": 38,
     "metadata": {},
     "output_type": "execute_result"
    },
    {
     "data": {
      "image/png": "[encoded data removed]",
      "text/plain": [
       "<Figure size 1152x216 with 5 Axes>"
      ]
     },
     "metadata": {
      "needs_background": "light"
     },
     "output_type": "display_data"
    }
   ],
   "source": [
    "fig, axes = plt.subplots(nrows=1, ncols=5,sharey=True,figsize=(16,3))\n",
    "ax1 = Data.boxplot(column='stars', by='RestaurantsTableService',figsize=(3,3),ax=axes[0])\n",
    "ax2 = Data.boxplot(column='stars', by='RestaurantsPriceRange2',figsize=(3,3),ax=axes[1])\n",
    "ax3 = Data.boxplot(column='stars', by='WheelchairAccessible',figsize=(3,3), ax=axes[2])\n",
    "ax4 = Data.boxplot(column='stars', by='OutdoorSeating',figsize=(3,3),ax=axes[3])\n",
    "ax5 = Data.boxplot(column='stars', by='RestaurantsReservations',figsize=(3,3),ax=axes[4])\n",
    "\n",
    "for ax in axes:\n",
    "    ax.set_title('')\n",
    "fig.suptitle('')"
   ]
  },
  {
   "cell_type": "code",
   "execution_count": 39,
   "metadata": {
    "ExecuteTime": {
     "end_time": "2019-10-03T00:38:45.533507Z",
     "start_time": "2019-10-03T00:38:45.531761Z"
    }
   },
   "outputs": [],
   "source": [
    "useful=useful+['RestaurantsTableService', 'RestaurantsPriceRange2' ]"
   ]
  },
  {
   "cell_type": "markdown",
   "metadata": {
    "ExecuteTime": {
     "end_time": "2019-10-02T22:38:03.653689Z",
     "start_time": "2019-10-02T22:38:03.648926Z"
    }
   },
   "source": [
    "<font color=red >'Alcohol' seems not of much use. (Problem: how to deal with this 'none', u'none' and None? which means there is no alcohol)</font>"
   ]
  },
  {
   "cell_type": "code",
   "execution_count": 40,
   "metadata": {
    "ExecuteTime": {
     "end_time": "2019-10-03T00:38:45.796779Z",
     "start_time": "2019-10-03T00:38:45.658293Z"
    }
   },
   "outputs": [
    {
     "data": {
      "image/png": "[encoded data removed]",
      "text/plain": [
       "<Figure size 360x216 with 1 Axes>"
      ]
     },
     "metadata": {
      "needs_background": "light"
     },
     "output_type": "display_data"
    }
   ],
   "source": [
    "ax = Data.boxplot(column='stars', by='Alcohol',figsize=(5,3))"
   ]
  },
  {
   "cell_type": "code",
   "execution_count": 41,
   "metadata": {
    "ExecuteTime": {
     "end_time": "2019-10-03T00:38:46.307152Z",
     "start_time": "2019-10-03T00:38:45.854888Z"
    }
   },
   "outputs": [
    {
     "data": {
      "text/plain": [
       "Text(0.5, 0.98, '')"
      ]
     },
     "execution_count": 41,
     "metadata": {},
     "output_type": "execute_result"
    },
    {
     "data": {
      "image/png": "[encoded data removed]",
      "text/plain": [
       "<Figure size 1152x216 with 5 Axes>"
      ]
     },
     "metadata": {
      "needs_background": "light"
     },
     "output_type": "display_data"
    }
   ],
   "source": [
    "fig, axes = plt.subplots(nrows=1, ncols=5,sharey=True,figsize=(16,3))\n",
    "ax1 = Data.boxplot(column='stars', by='RestaurantsTakeOut',figsize=(2,3),ax=axes[0])\n",
    "ax2 = Data.boxplot(column='stars', by='WiFi',figsize=(3,3),ax=axes[1])\n",
    "ax3 = Data.boxplot(column='stars', by='RestaurantsDelivery',figsize=(3,3),ax=axes[2])\n",
    "ax4 = Data.boxplot(column='stars', by='Caters',figsize=(3,3),ax=axes[3])\n",
    "ax5 = Data.boxplot(column='stars', by='RestaurantsAttire',figsize=(3,3), ax=axes[4])\n",
    "for ax in axes:\n",
    "    ax.set_title('')\n",
    "fig.suptitle('')"
   ]
  },
  {
   "cell_type": "code",
   "execution_count": 42,
   "metadata": {
    "ExecuteTime": {
     "end_time": "2019-10-03T00:38:46.310057Z",
     "start_time": "2019-10-03T00:38:46.308308Z"
    }
   },
   "outputs": [],
   "source": [
    "useful = useful + ['Caters', 'RestaurantsAttire']"
   ]
  },
  {
   "cell_type": "markdown",
   "metadata": {},
   "source": [
    "<font color = green >'NoiseLevel' and 'BusinessAcceptsCreditCards' could be useful! </font>"
   ]
  },
  {
   "cell_type": "code",
   "execution_count": 43,
   "metadata": {
    "ExecuteTime": {
     "end_time": "2019-10-03T00:38:46.939144Z",
     "start_time": "2019-10-03T00:38:46.462590Z"
    }
   },
   "outputs": [
    {
     "data": {
      "text/plain": [
       "Text(0.5, 0.98, '')"
      ]
     },
     "execution_count": 43,
     "metadata": {},
     "output_type": "execute_result"
    },
    {
     "data": {
      "image/png": "[encoded data removed]",
      "text/plain": [
       "<Figure size 1152x216 with 5 Axes>"
      ]
     },
     "metadata": {
      "needs_background": "light"
     },
     "output_type": "display_data"
    }
   ],
   "source": [
    "fig, axes = plt.subplots(nrows=1, ncols=5,sharey=True,figsize=(16,3))\n",
    "_col = ['BikeParking','HasTV','GoodForKids','NoiseLevel','BusinessAcceptsCreditCards']\n",
    "for i in range(0,5):\n",
    "    Data.boxplot(column='stars', by=_col[i],figsize=(4,3),ax=axes[i])\n",
    "for ax in axes:\n",
    "    ax.set_title('')\n",
    "fig.suptitle('')"
   ]
  },
  {
   "cell_type": "code",
   "execution_count": 44,
   "metadata": {
    "ExecuteTime": {
     "end_time": "2019-10-03T00:38:46.941855Z",
     "start_time": "2019-10-03T00:38:46.940227Z"
    }
   },
   "outputs": [],
   "source": [
    "useful = useful+['NoiseLevel', 'BusinessAcceptsCreditCards']"
   ]
  },
  {
   "cell_type": "markdown",
   "metadata": {
    "ExecuteTime": {
     "end_time": "2019-10-02T22:39:51.960105Z",
     "start_time": "2019-10-02T22:39:51.950824Z"
    }
   },
   "source": [
    "<font color=green> 'BusinessParking_validated','BusinessParking_street','BusinessParking_valet' might be useful </font>"
   ]
  },
  {
   "cell_type": "code",
   "execution_count": 45,
   "metadata": {
    "ExecuteTime": {
     "end_time": "2019-10-03T00:38:47.514253Z",
     "start_time": "2019-10-03T00:38:47.051996Z"
    }
   },
   "outputs": [
    {
     "data": {
      "text/plain": [
       "Text(0.5, 0.98, '')"
      ]
     },
     "execution_count": 45,
     "metadata": {},
     "output_type": "execute_result"
    },
    {
     "data": {
      "image/png": "[encoded data removed]",
      "text/plain": [
       "<Figure size 1080x216 with 5 Axes>"
      ]
     },
     "metadata": {
      "needs_background": "light"
     },
     "output_type": "display_data"
    }
   ],
   "source": [
    "fig, axes = plt.subplots(nrows=1, ncols=5,sharey=True,figsize=(15,3))\n",
    "_col = ['BusinessParking_lot','BusinessParking_garage','BusinessParking_validated','BusinessParking_street','BusinessParking_valet']\n",
    "for i in range(0,5):\n",
    "    Data.boxplot(column='stars', by=_col[i],figsize=(4,3),ax=axes[i])\n",
    "for ax in axes:\n",
    "    ax.set_title('')\n",
    "fig.suptitle('')\n"
   ]
  },
  {
   "cell_type": "code",
   "execution_count": 46,
   "metadata": {
    "ExecuteTime": {
     "end_time": "2019-10-03T00:38:47.517230Z",
     "start_time": "2019-10-03T00:38:47.515360Z"
    }
   },
   "outputs": [],
   "source": [
    "useful=useful+['BusinessParking_validated','BusinessParking_street','BusinessParking_valet']"
   ]
  },
  {
   "cell_type": "markdown",
   "metadata": {},
   "source": [
    "<font color = green> 'Ambience_romantic','Ambience_intimate','Ambience_hipster','Ambience_touristy' might be of use </font>"
   ]
  },
  {
   "cell_type": "code",
   "execution_count": 47,
   "metadata": {
    "ExecuteTime": {
     "end_time": "2019-10-03T00:38:48.059807Z",
     "start_time": "2019-10-03T00:38:47.614016Z"
    }
   },
   "outputs": [
    {
     "data": {
      "text/plain": [
       "Text(0.5, 0.98, '')"
      ]
     },
     "execution_count": 47,
     "metadata": {},
     "output_type": "execute_result"
    },
    {
     "data": {
      "image/png": "[encoded data removed]",
      "text/plain": [
       "<Figure size 1080x216 with 5 Axes>"
      ]
     },
     "metadata": {
      "needs_background": "light"
     },
     "output_type": "display_data"
    }
   ],
   "source": [
    "fig, axes = plt.subplots(nrows=1, ncols=5,sharey=True,figsize=(15,3))\n",
    "_col = ['Ambience_romantic','Ambience_intimate','Ambience_hipster','Ambience_touristy','Ambience_casual']\n",
    "for i in range(0,5):\n",
    "    Data.boxplot(column='stars', by=_col[i],figsize=(4,3),ax=axes[i])\n",
    "for ax in axes:\n",
    "    ax.set_title('')\n",
    "fig.suptitle('')\n"
   ]
  },
  {
   "cell_type": "code",
   "execution_count": 48,
   "metadata": {
    "ExecuteTime": {
     "end_time": "2019-10-03T00:38:48.063021Z",
     "start_time": "2019-10-03T00:38:48.061225Z"
    }
   },
   "outputs": [],
   "source": [
    "useful = useful+['Ambience_romantic','Ambience_intimate','Ambience_hipster','Ambience_touristy']"
   ]
  },
  {
   "cell_type": "markdown",
   "metadata": {},
   "source": [
    "<font color = green>'Ambience_upscale','Ambience_trendy', 'Ambience_classy' might be helpful </font>"
   ]
  },
  {
   "cell_type": "code",
   "execution_count": 49,
   "metadata": {
    "ExecuteTime": {
     "end_time": "2019-10-03T00:38:48.614153Z",
     "start_time": "2019-10-03T00:38:48.166372Z"
    }
   },
   "outputs": [
    {
     "data": {
      "text/plain": [
       "Text(0.5, 0.98, '')"
      ]
     },
     "execution_count": 49,
     "metadata": {},
     "output_type": "execute_result"
    },
    {
     "data": {
      "image/png": "[encoded data removed]",
      "text/plain": [
       "<Figure size 1080x216 with 5 Axes>"
      ]
     },
     "metadata": {
      "needs_background": "light"
     },
     "output_type": "display_data"
    }
   ],
   "source": [
    "fig, axes = plt.subplots(nrows=1, ncols=5,sharey=True,figsize=(15,3))\n",
    "_col = ['Ambience_upscale','Ambience_trendy', 'Ambience_classy','Ambience_divey','RestaurantsGoodForGroups']\n",
    "for i in range(0,5):\n",
    "    Data.boxplot(column='stars', by=_col[i],figsize=(4,3),ax=axes[i])\n",
    "for ax in axes:\n",
    "    ax.set_title('')\n",
    "fig.suptitle('')\n"
   ]
  },
  {
   "cell_type": "code",
   "execution_count": 50,
   "metadata": {
    "ExecuteTime": {
     "end_time": "2019-10-03T00:38:48.616962Z",
     "start_time": "2019-10-03T00:38:48.615288Z"
    }
   },
   "outputs": [],
   "source": [
    "useful = useful + ['Ambience_upscale','Ambience_trendy', 'Ambience_classy']"
   ]
  },
  {
   "cell_type": "markdown",
   "metadata": {},
   "source": [
    "<font color = green>'GoodForMeal_brunch','GoodForMeal_dinner' might be helpful </font>"
   ]
  },
  {
   "cell_type": "code",
   "execution_count": 51,
   "metadata": {
    "ExecuteTime": {
     "end_time": "2019-10-03T00:38:49.257317Z",
     "start_time": "2019-10-03T00:38:48.739776Z"
    }
   },
   "outputs": [
    {
     "data": {
      "text/plain": [
       "Text(0.5, 0.98, '')"
      ]
     },
     "execution_count": 51,
     "metadata": {},
     "output_type": "execute_result"
    },
    {
     "data": {
      "image/png": "[encoded data removed]",
      "text/plain": [
       "<Figure size 1296x216 with 6 Axes>"
      ]
     },
     "metadata": {
      "needs_background": "light"
     },
     "output_type": "display_data"
    }
   ],
   "source": [
    "_col = ['GoodForMeal_brunch','GoodForMeal_dinner','GoodForMeal_lunch','GoodForMeal_latenight','GoodForMeal_dessert','GoodForMeal_breakfast']\n",
    "fig, axes = plt.subplots(nrows=1, ncols=6,sharey=True,figsize=(18,3))\n",
    "for i in range(0,6):\n",
    "    Data.boxplot(column='stars', by=_col[i],figsize=(3,3),ax=axes[i])\n",
    "for ax in axes:\n",
    "    ax.set_title('')\n",
    "fig.suptitle('')"
   ]
  },
  {
   "cell_type": "code",
   "execution_count": 52,
   "metadata": {
    "ExecuteTime": {
     "end_time": "2019-10-03T00:38:49.260089Z",
     "start_time": "2019-10-03T00:38:49.258436Z"
    }
   },
   "outputs": [],
   "source": [
    "useful = useful+['GoodForMeal_brunch','GoodForMeal_dinner']"
   ]
  },
  {
   "cell_type": "code",
   "execution_count": 53,
   "metadata": {
    "ExecuteTime": {
     "end_time": "2019-10-03T00:38:49.271551Z",
     "start_time": "2019-10-03T00:38:49.261038Z"
    }
   },
   "outputs": [],
   "source": [
    "def get_useful():\n",
    "    return useful\n"
   ]
  },
  {
   "cell_type": "code",
   "execution_count": 54,
   "metadata": {
    "ExecuteTime": {
     "end_time": "2019-10-03T00:38:49.424367Z",
     "start_time": "2019-10-03T00:38:49.312615Z"
    }
   },
   "outputs": [],
   "source": [
    "Train_X = Data[useful]\n",
    "Train_X.to_csv(\"Train_X.csv\")"
   ]
  },
  {
   "cell_type": "markdown",
   "metadata": {},
   "source": [
    "## XGB and feature importance"
   ]
  },
  {
   "cell_type": "markdown",
   "metadata": {},
   "source": [
    "### Load Data"
   ]
  },
  {
   "cell_type": "code",
   "execution_count": 55,
   "metadata": {
    "ExecuteTime": {
     "end_time": "2019-10-03T00:38:50.057798Z",
     "start_time": "2019-10-03T00:38:49.890141Z"
    }
   },
   "outputs": [],
   "source": [
    "from sklearn.preprocessing import LabelEncoder\n",
    "from sklearn.model_selection import train_test_split \n",
    "from sklearn.linear_model import Lasso\n",
    "from sklearn.metrics import mean_squared_error\n",
    "import pandas as pd\n",
    "import numpy as np\n",
    "from xgboost import XGBRegressor"
   ]
  },
  {
   "cell_type": "code",
   "execution_count": 56,
   "metadata": {
    "ExecuteTime": {
     "end_time": "2019-10-03T00:38:50.189002Z",
     "start_time": "2019-10-03T00:38:50.088458Z"
    }
   },
   "outputs": [],
   "source": [
    "df = pd.read_csv(\"./VariaS/Train_X.csv\")\n",
    "df.set_index('business_id',inplace=True)\n",
    "Y = pd.read_csv(\"./VariaS/Y.csv\")\n",
    "Y.set_index('business_id',inplace=True)"
   ]
  },
  {
   "cell_type": "markdown",
   "metadata": {},
   "source": [
    "### Manually encode the (somewhat quantitative) features"
   ]
  },
  {
   "cell_type": "code",
   "execution_count": 57,
   "metadata": {
    "ExecuteTime": {
     "end_time": "2019-10-03T00:38:50.488296Z",
     "start_time": "2019-10-03T00:38:50.453821Z"
    }
   },
   "outputs": [],
   "source": [
    "X_train, X_test, y_train, y_test = train_test_split(df,Y,test_size=0.3, random_state=0)\n",
    "X_Y_train = pd.merge(X_train,y_train,left_index=True, right_index=True)\n"
   ]
  },
  {
   "cell_type": "code",
   "execution_count": 58,
   "metadata": {
    "ExecuteTime": {
     "end_time": "2019-10-03T00:38:50.649293Z",
     "start_time": "2019-10-03T00:38:50.643070Z"
    }
   },
   "outputs": [],
   "source": [
    "features = list(X_Y_train.columns)"
   ]
  },
  {
   "cell_type": "code",
   "execution_count": 59,
   "metadata": {
    "ExecuteTime": {
     "end_time": "2019-10-03T00:38:50.839219Z",
     "start_time": "2019-10-03T00:38:50.834081Z"
    }
   },
   "outputs": [
    {
     "data": {
      "text/plain": [
       "['RestaurantsTableService',\n",
       " 'RestaurantsPriceRange2',\n",
       " 'Caters',\n",
       " 'RestaurantsAttire',\n",
       " 'NoiseLevel',\n",
       " 'BusinessAcceptsCreditCards',\n",
       " 'BusinessParking_validated',\n",
       " 'BusinessParking_street',\n",
       " 'BusinessParking_valet',\n",
       " 'Ambience_romantic',\n",
       " 'Ambience_intimate',\n",
       " 'Ambience_hipster',\n",
       " 'Ambience_touristy',\n",
       " 'Ambience_upscale',\n",
       " 'Ambience_trendy',\n",
       " 'Ambience_classy',\n",
       " 'GoodForMeal_brunch',\n",
       " 'GoodForMeal_dinner',\n",
       " 'stars']"
      ]
     },
     "execution_count": 59,
     "metadata": {},
     "output_type": "execute_result"
    }
   ],
   "source": [
    "features"
   ]
  },
  {
   "cell_type": "code",
   "execution_count": 60,
   "metadata": {
    "ExecuteTime": {
     "end_time": "2019-10-03T00:38:51.170917Z",
     "start_time": "2019-10-03T00:38:51.012167Z"
    }
   },
   "outputs": [],
   "source": [
    "for col in features:\n",
    "    gb = X_Y_train.groupby([col])['stars'].mean()\n",
    "    gb.rename(col,inplace=True).to_frame()\n",
    "    X_Y_train.join(gb.rename(col,inplace=True).to_frame(), how='left',on=col,rsuffix='_mean_enc')\n"
   ]
  },
  {
   "cell_type": "code",
   "execution_count": 61,
   "metadata": {
    "ExecuteTime": {
     "end_time": "2019-10-03T00:38:51.206043Z",
     "start_time": "2019-10-03T00:38:51.201872Z"
    }
   },
   "outputs": [
    {
     "data": {
      "text/plain": [
       "RestaurantsTableService\n",
       "False      3.628324\n",
       "Missing    3.402753\n",
       "True       3.681329\n",
       "Name: RestaurantsTableService, dtype: float64"
      ]
     },
     "execution_count": 61,
     "metadata": {},
     "output_type": "execute_result"
    }
   ],
   "source": [
    "gb = X_Y_train.groupby(['RestaurantsTableService'])['stars'].mean()\n",
    "gb.rename('RestaurantsTableService',inplace=True)\n",
    "# X_Y_train.join(gb.to_frame(), how='left',on=col,rsuffix='_mean_enc')\n",
    "# X_Y_train.head()\n",
    "gb"
   ]
  },
  {
   "cell_type": "code",
   "execution_count": 62,
   "metadata": {
    "ExecuteTime": {
     "end_time": "2019-10-03T00:38:51.444433Z",
     "start_time": "2019-10-03T00:38:51.398345Z"
    }
   },
   "outputs": [
    {
     "data": {
      "text/html": [
       "<div>\n",
       "<style scoped>\n",
       "    .dataframe tbody tr th:only-of-type {\n",
       "        vertical-align: middle;\n",
       "    }\n",
       "\n",
       "    .dataframe tbody tr th {\n",
       "        vertical-align: top;\n",
       "    }\n",
       "\n",
       "    .dataframe thead th {\n",
       "        text-align: right;\n",
       "    }\n",
       "</style>\n",
       "<table border=\"1\" class=\"dataframe\">\n",
       "  <thead>\n",
       "    <tr style=\"text-align: right;\">\n",
       "      <th></th>\n",
       "      <th>RestaurantsTableService</th>\n",
       "      <th>RestaurantsPriceRange2</th>\n",
       "      <th>Caters</th>\n",
       "      <th>RestaurantsAttire</th>\n",
       "      <th>NoiseLevel</th>\n",
       "      <th>BusinessAcceptsCreditCards</th>\n",
       "      <th>BusinessParking_validated</th>\n",
       "      <th>BusinessParking_street</th>\n",
       "      <th>BusinessParking_valet</th>\n",
       "      <th>Ambience_romantic</th>\n",
       "      <th>Ambience_intimate</th>\n",
       "      <th>Ambience_hipster</th>\n",
       "      <th>Ambience_touristy</th>\n",
       "      <th>Ambience_upscale</th>\n",
       "      <th>Ambience_trendy</th>\n",
       "      <th>Ambience_classy</th>\n",
       "      <th>GoodForMeal_brunch</th>\n",
       "      <th>GoodForMeal_dinner</th>\n",
       "      <th>stars</th>\n",
       "    </tr>\n",
       "    <tr>\n",
       "      <th>business_id</th>\n",
       "      <th></th>\n",
       "      <th></th>\n",
       "      <th></th>\n",
       "      <th></th>\n",
       "      <th></th>\n",
       "      <th></th>\n",
       "      <th></th>\n",
       "      <th></th>\n",
       "      <th></th>\n",
       "      <th></th>\n",
       "      <th></th>\n",
       "      <th></th>\n",
       "      <th></th>\n",
       "      <th></th>\n",
       "      <th></th>\n",
       "      <th></th>\n",
       "      <th></th>\n",
       "      <th></th>\n",
       "      <th></th>\n",
       "    </tr>\n",
       "  </thead>\n",
       "  <tbody>\n",
       "    <tr>\n",
       "      <th>RWYQMss0RzbtDGGwRI3iaQ</th>\n",
       "      <td>Missing</td>\n",
       "      <td>3</td>\n",
       "      <td>Missing</td>\n",
       "      <td>casual</td>\n",
       "      <td>average</td>\n",
       "      <td>Missing</td>\n",
       "      <td>False</td>\n",
       "      <td>True</td>\n",
       "      <td>False</td>\n",
       "      <td>False</td>\n",
       "      <td>False</td>\n",
       "      <td>Missing</td>\n",
       "      <td>False</td>\n",
       "      <td>False</td>\n",
       "      <td>False</td>\n",
       "      <td>False</td>\n",
       "      <td>Missing</td>\n",
       "      <td>Missing</td>\n",
       "      <td>2.5</td>\n",
       "    </tr>\n",
       "    <tr>\n",
       "      <th>_5Se2W5k_WJuee-aqBpNPA</th>\n",
       "      <td>True</td>\n",
       "      <td>2</td>\n",
       "      <td>False</td>\n",
       "      <td>casual</td>\n",
       "      <td>loud</td>\n",
       "      <td>True</td>\n",
       "      <td>False</td>\n",
       "      <td>False</td>\n",
       "      <td>False</td>\n",
       "      <td>False</td>\n",
       "      <td>False</td>\n",
       "      <td>False</td>\n",
       "      <td>False</td>\n",
       "      <td>False</td>\n",
       "      <td>False</td>\n",
       "      <td>False</td>\n",
       "      <td>True</td>\n",
       "      <td>False</td>\n",
       "      <td>4.0</td>\n",
       "    </tr>\n",
       "    <tr>\n",
       "      <th>aGAeYVf2sBygo2OJJBbuIg</th>\n",
       "      <td>True</td>\n",
       "      <td>2</td>\n",
       "      <td>True</td>\n",
       "      <td>casual</td>\n",
       "      <td>loud</td>\n",
       "      <td>True</td>\n",
       "      <td>False</td>\n",
       "      <td>True</td>\n",
       "      <td>True</td>\n",
       "      <td>False</td>\n",
       "      <td>False</td>\n",
       "      <td>False</td>\n",
       "      <td>False</td>\n",
       "      <td>False</td>\n",
       "      <td>True</td>\n",
       "      <td>False</td>\n",
       "      <td>False</td>\n",
       "      <td>False</td>\n",
       "      <td>3.0</td>\n",
       "    </tr>\n",
       "    <tr>\n",
       "      <th>AbPQf-X7awuPFDULiJ43bg</th>\n",
       "      <td>Missing</td>\n",
       "      <td>1</td>\n",
       "      <td>False</td>\n",
       "      <td>casual</td>\n",
       "      <td>average</td>\n",
       "      <td>True</td>\n",
       "      <td>False</td>\n",
       "      <td>False</td>\n",
       "      <td>False</td>\n",
       "      <td>False</td>\n",
       "      <td>False</td>\n",
       "      <td>False</td>\n",
       "      <td>False</td>\n",
       "      <td>False</td>\n",
       "      <td>False</td>\n",
       "      <td>False</td>\n",
       "      <td>False</td>\n",
       "      <td>True</td>\n",
       "      <td>4.0</td>\n",
       "    </tr>\n",
       "    <tr>\n",
       "      <th>Yecau5RHd7hjMlsZFBccFQ</th>\n",
       "      <td>Missing</td>\n",
       "      <td>1</td>\n",
       "      <td>Missing</td>\n",
       "      <td>casual</td>\n",
       "      <td>quiet</td>\n",
       "      <td>True</td>\n",
       "      <td>Missing</td>\n",
       "      <td>Missing</td>\n",
       "      <td>Missing</td>\n",
       "      <td>Missing</td>\n",
       "      <td>Missing</td>\n",
       "      <td>Missing</td>\n",
       "      <td>Missing</td>\n",
       "      <td>Missing</td>\n",
       "      <td>Missing</td>\n",
       "      <td>Missing</td>\n",
       "      <td>False</td>\n",
       "      <td>False</td>\n",
       "      <td>2.0</td>\n",
       "    </tr>\n",
       "  </tbody>\n",
       "</table>\n",
       "</div>"
      ],
      "text/plain": [
       "                       RestaurantsTableService RestaurantsPriceRange2  \\\n",
       "business_id                                                             \n",
       "RWYQMss0RzbtDGGwRI3iaQ                 Missing                      3   \n",
       "_5Se2W5k_WJuee-aqBpNPA                    True                      2   \n",
       "aGAeYVf2sBygo2OJJBbuIg                    True                      2   \n",
       "AbPQf-X7awuPFDULiJ43bg                 Missing                      1   \n",
       "Yecau5RHd7hjMlsZFBccFQ                 Missing                      1   \n",
       "\n",
       "                         Caters RestaurantsAttire NoiseLevel  \\\n",
       "business_id                                                    \n",
       "RWYQMss0RzbtDGGwRI3iaQ  Missing            casual    average   \n",
       "_5Se2W5k_WJuee-aqBpNPA    False            casual       loud   \n",
       "aGAeYVf2sBygo2OJJBbuIg     True            casual       loud   \n",
       "AbPQf-X7awuPFDULiJ43bg    False            casual    average   \n",
       "Yecau5RHd7hjMlsZFBccFQ  Missing            casual      quiet   \n",
       "\n",
       "                       BusinessAcceptsCreditCards BusinessParking_validated  \\\n",
       "business_id                                                                   \n",
       "RWYQMss0RzbtDGGwRI3iaQ                    Missing                     False   \n",
       "_5Se2W5k_WJuee-aqBpNPA                       True                     False   \n",
       "aGAeYVf2sBygo2OJJBbuIg                       True                     False   \n",
       "AbPQf-X7awuPFDULiJ43bg                       True                     False   \n",
       "Yecau5RHd7hjMlsZFBccFQ                       True                   Missing   \n",
       "\n",
       "                       BusinessParking_street BusinessParking_valet  \\\n",
       "business_id                                                           \n",
       "RWYQMss0RzbtDGGwRI3iaQ                   True                 False   \n",
       "_5Se2W5k_WJuee-aqBpNPA                  False                 False   \n",
       "aGAeYVf2sBygo2OJJBbuIg                   True                  True   \n",
       "AbPQf-X7awuPFDULiJ43bg                  False                 False   \n",
       "Yecau5RHd7hjMlsZFBccFQ                Missing               Missing   \n",
       "\n",
       "                       Ambience_romantic Ambience_intimate Ambience_hipster  \\\n",
       "business_id                                                                   \n",
       "RWYQMss0RzbtDGGwRI3iaQ             False             False          Missing   \n",
       "_5Se2W5k_WJuee-aqBpNPA             False             False            False   \n",
       "aGAeYVf2sBygo2OJJBbuIg             False             False            False   \n",
       "AbPQf-X7awuPFDULiJ43bg             False             False            False   \n",
       "Yecau5RHd7hjMlsZFBccFQ           Missing           Missing          Missing   \n",
       "\n",
       "                       Ambience_touristy Ambience_upscale Ambience_trendy  \\\n",
       "business_id                                                                 \n",
       "RWYQMss0RzbtDGGwRI3iaQ             False            False           False   \n",
       "_5Se2W5k_WJuee-aqBpNPA             False            False           False   \n",
       "aGAeYVf2sBygo2OJJBbuIg             False            False            True   \n",
       "AbPQf-X7awuPFDULiJ43bg             False            False           False   \n",
       "Yecau5RHd7hjMlsZFBccFQ           Missing          Missing         Missing   \n",
       "\n",
       "                       Ambience_classy GoodForMeal_brunch GoodForMeal_dinner  \\\n",
       "business_id                                                                    \n",
       "RWYQMss0RzbtDGGwRI3iaQ           False            Missing            Missing   \n",
       "_5Se2W5k_WJuee-aqBpNPA           False               True              False   \n",
       "aGAeYVf2sBygo2OJJBbuIg           False              False              False   \n",
       "AbPQf-X7awuPFDULiJ43bg           False              False               True   \n",
       "Yecau5RHd7hjMlsZFBccFQ         Missing              False              False   \n",
       "\n",
       "                        stars  \n",
       "business_id                    \n",
       "RWYQMss0RzbtDGGwRI3iaQ    2.5  \n",
       "_5Se2W5k_WJuee-aqBpNPA    4.0  \n",
       "aGAeYVf2sBygo2OJJBbuIg    3.0  \n",
       "AbPQf-X7awuPFDULiJ43bg    4.0  \n",
       "Yecau5RHd7hjMlsZFBccFQ    2.0  "
      ]
     },
     "execution_count": 62,
     "metadata": {},
     "output_type": "execute_result"
    }
   ],
   "source": [
    "X_Y_train.head()"
   ]
  },
  {
   "cell_type": "code",
   "execution_count": 63,
   "metadata": {
    "ExecuteTime": {
     "end_time": "2019-10-03T00:38:51.831072Z",
     "start_time": "2019-10-03T00:38:51.587548Z"
    }
   },
   "outputs": [],
   "source": [
    "df_encoded = df.replace(\"True\",1)\n",
    "df_encoded = df_encoded.replace(\"False\",0)\n",
    "\n",
    "df_encoded['NoiseLevel'].replace(\"quiet\",0,inplace=True)\n",
    "df_encoded['NoiseLevel'].replace(\"average\",1,inplace=True)\n",
    "df_encoded['NoiseLevel'].replace(\"loud\",2,inplace=True)\n",
    "df_encoded['NoiseLevel'].replace(\"very_loud\",3,inplace=True)\n",
    "df_encoded.replace(\"casual\",0,inplace=True)\n",
    "df_encoded.replace(\"dressy\",1,inplace=True)\n",
    "df_encoded.replace(\"formal\",2,inplace=True)\n",
    "\n",
    "df_encoded.head()\n",
    "df_encoded.to_csv('X_encoded.csv')"
   ]
  },
  {
   "cell_type": "code",
   "execution_count": 64,
   "metadata": {
    "ExecuteTime": {
     "end_time": "2019-10-03T00:38:51.834889Z",
     "start_time": "2019-10-03T00:38:51.832376Z"
    }
   },
   "outputs": [
    {
     "data": {
      "text/plain": [
       "['RestaurantsTableService',\n",
       " 'RestaurantsPriceRange2',\n",
       " 'Caters',\n",
       " 'RestaurantsAttire',\n",
       " 'NoiseLevel',\n",
       " 'BusinessAcceptsCreditCards',\n",
       " 'BusinessParking_validated',\n",
       " 'BusinessParking_street',\n",
       " 'BusinessParking_valet',\n",
       " 'Ambience_romantic',\n",
       " 'Ambience_intimate',\n",
       " 'Ambience_hipster',\n",
       " 'Ambience_touristy',\n",
       " 'Ambience_upscale',\n",
       " 'Ambience_trendy',\n",
       " 'Ambience_classy',\n",
       " 'GoodForMeal_brunch',\n",
       " 'GoodForMeal_dinner']"
      ]
     },
     "execution_count": 64,
     "metadata": {},
     "output_type": "execute_result"
    }
   ],
   "source": [
    "features = list(df.columns)\n",
    "features "
   ]
  },
  {
   "cell_type": "markdown",
   "metadata": {},
   "source": [
    "### Try with linear regression (Lasso)"
   ]
  },
  {
   "cell_type": "code",
   "execution_count": 65,
   "metadata": {
    "ExecuteTime": {
     "end_time": "2019-10-03T00:38:52.168575Z",
     "start_time": "2019-10-03T00:38:52.152291Z"
    }
   },
   "outputs": [],
   "source": [
    "X_lr = df_encoded.copy()\n",
    "X_lr.reset_index(drop=True, inplace=True)\n",
    "#Y.drop(labels='business_id', inplace=True, axis=1)"
   ]
  },
  {
   "cell_type": "code",
   "execution_count": 66,
   "metadata": {
    "ExecuteTime": {
     "end_time": "2019-10-03T00:38:52.453430Z",
     "start_time": "2019-10-03T00:38:52.345473Z"
    }
   },
   "outputs": [],
   "source": [
    "X_lr.replace(\"Missing\", 0.5, inplace=True)\n",
    "X_train, X_test, y_train, y_test = train_test_split(X_lr,Y,test_size=0.3, random_state=0)"
   ]
  },
  {
   "cell_type": "code",
   "execution_count": 67,
   "metadata": {
    "ExecuteTime": {
     "end_time": "2019-10-03T00:38:52.590963Z",
     "start_time": "2019-10-03T00:38:52.546513Z"
    }
   },
   "outputs": [
    {
     "data": {
      "text/html": [
       "<div>\n",
       "<style scoped>\n",
       "    .dataframe tbody tr th:only-of-type {\n",
       "        vertical-align: middle;\n",
       "    }\n",
       "\n",
       "    .dataframe tbody tr th {\n",
       "        vertical-align: top;\n",
       "    }\n",
       "\n",
       "    .dataframe thead th {\n",
       "        text-align: right;\n",
       "    }\n",
       "</style>\n",
       "<table border=\"1\" class=\"dataframe\">\n",
       "  <thead>\n",
       "    <tr style=\"text-align: right;\">\n",
       "      <th></th>\n",
       "      <th>RestaurantsTableService</th>\n",
       "      <th>RestaurantsPriceRange2</th>\n",
       "      <th>Caters</th>\n",
       "      <th>RestaurantsAttire</th>\n",
       "      <th>NoiseLevel</th>\n",
       "      <th>BusinessAcceptsCreditCards</th>\n",
       "      <th>BusinessParking_validated</th>\n",
       "      <th>BusinessParking_street</th>\n",
       "      <th>BusinessParking_valet</th>\n",
       "      <th>Ambience_romantic</th>\n",
       "      <th>Ambience_intimate</th>\n",
       "      <th>Ambience_hipster</th>\n",
       "      <th>Ambience_touristy</th>\n",
       "      <th>Ambience_upscale</th>\n",
       "      <th>Ambience_trendy</th>\n",
       "      <th>Ambience_classy</th>\n",
       "      <th>GoodForMeal_brunch</th>\n",
       "      <th>GoodForMeal_dinner</th>\n",
       "    </tr>\n",
       "  </thead>\n",
       "  <tbody>\n",
       "    <tr>\n",
       "      <th>20169</th>\n",
       "      <td>0.5</td>\n",
       "      <td>3</td>\n",
       "      <td>0.5</td>\n",
       "      <td>0.0</td>\n",
       "      <td>1.0</td>\n",
       "      <td>0.5</td>\n",
       "      <td>0.0</td>\n",
       "      <td>1.0</td>\n",
       "      <td>0.0</td>\n",
       "      <td>0.0</td>\n",
       "      <td>0.0</td>\n",
       "      <td>0.5</td>\n",
       "      <td>0.0</td>\n",
       "      <td>0.0</td>\n",
       "      <td>0.0</td>\n",
       "      <td>0.0</td>\n",
       "      <td>0.5</td>\n",
       "      <td>0.5</td>\n",
       "    </tr>\n",
       "    <tr>\n",
       "      <th>32730</th>\n",
       "      <td>1.0</td>\n",
       "      <td>2</td>\n",
       "      <td>0.0</td>\n",
       "      <td>0.0</td>\n",
       "      <td>2.0</td>\n",
       "      <td>1.0</td>\n",
       "      <td>0.0</td>\n",
       "      <td>0.0</td>\n",
       "      <td>0.0</td>\n",
       "      <td>0.0</td>\n",
       "      <td>0.0</td>\n",
       "      <td>0.0</td>\n",
       "      <td>0.0</td>\n",
       "      <td>0.0</td>\n",
       "      <td>0.0</td>\n",
       "      <td>0.0</td>\n",
       "      <td>1.0</td>\n",
       "      <td>0.0</td>\n",
       "    </tr>\n",
       "    <tr>\n",
       "      <th>8510</th>\n",
       "      <td>1.0</td>\n",
       "      <td>2</td>\n",
       "      <td>1.0</td>\n",
       "      <td>0.0</td>\n",
       "      <td>2.0</td>\n",
       "      <td>1.0</td>\n",
       "      <td>0.0</td>\n",
       "      <td>1.0</td>\n",
       "      <td>1.0</td>\n",
       "      <td>0.0</td>\n",
       "      <td>0.0</td>\n",
       "      <td>0.0</td>\n",
       "      <td>0.0</td>\n",
       "      <td>0.0</td>\n",
       "      <td>1.0</td>\n",
       "      <td>0.0</td>\n",
       "      <td>0.0</td>\n",
       "      <td>0.0</td>\n",
       "    </tr>\n",
       "    <tr>\n",
       "      <th>36943</th>\n",
       "      <td>0.5</td>\n",
       "      <td>1</td>\n",
       "      <td>0.0</td>\n",
       "      <td>0.0</td>\n",
       "      <td>1.0</td>\n",
       "      <td>1.0</td>\n",
       "      <td>0.0</td>\n",
       "      <td>0.0</td>\n",
       "      <td>0.0</td>\n",
       "      <td>0.0</td>\n",
       "      <td>0.0</td>\n",
       "      <td>0.0</td>\n",
       "      <td>0.0</td>\n",
       "      <td>0.0</td>\n",
       "      <td>0.0</td>\n",
       "      <td>0.0</td>\n",
       "      <td>0.0</td>\n",
       "      <td>1.0</td>\n",
       "    </tr>\n",
       "    <tr>\n",
       "      <th>17929</th>\n",
       "      <td>0.5</td>\n",
       "      <td>1</td>\n",
       "      <td>0.5</td>\n",
       "      <td>0.0</td>\n",
       "      <td>0.0</td>\n",
       "      <td>1.0</td>\n",
       "      <td>0.5</td>\n",
       "      <td>0.5</td>\n",
       "      <td>0.5</td>\n",
       "      <td>0.5</td>\n",
       "      <td>0.5</td>\n",
       "      <td>0.5</td>\n",
       "      <td>0.5</td>\n",
       "      <td>0.5</td>\n",
       "      <td>0.5</td>\n",
       "      <td>0.5</td>\n",
       "      <td>0.0</td>\n",
       "      <td>0.0</td>\n",
       "    </tr>\n",
       "  </tbody>\n",
       "</table>\n",
       "</div>"
      ],
      "text/plain": [
       "       RestaurantsTableService RestaurantsPriceRange2  Caters  \\\n",
       "20169                      0.5                      3     0.5   \n",
       "32730                      1.0                      2     0.0   \n",
       "8510                       1.0                      2     1.0   \n",
       "36943                      0.5                      1     0.0   \n",
       "17929                      0.5                      1     0.5   \n",
       "\n",
       "       RestaurantsAttire  NoiseLevel  BusinessAcceptsCreditCards  \\\n",
       "20169                0.0         1.0                         0.5   \n",
       "32730                0.0         2.0                         1.0   \n",
       "8510                 0.0         2.0                         1.0   \n",
       "36943                0.0         1.0                         1.0   \n",
       "17929                0.0         0.0                         1.0   \n",
       "\n",
       "       BusinessParking_validated  BusinessParking_street  \\\n",
       "20169                        0.0                     1.0   \n",
       "32730                        0.0                     0.0   \n",
       "8510                         0.0                     1.0   \n",
       "36943                        0.0                     0.0   \n",
       "17929                        0.5                     0.5   \n",
       "\n",
       "       BusinessParking_valet  Ambience_romantic  Ambience_intimate  \\\n",
       "20169                    0.0                0.0                0.0   \n",
       "32730                    0.0                0.0                0.0   \n",
       "8510                     1.0                0.0                0.0   \n",
       "36943                    0.0                0.0                0.0   \n",
       "17929                    0.5                0.5                0.5   \n",
       "\n",
       "       Ambience_hipster  Ambience_touristy  Ambience_upscale  Ambience_trendy  \\\n",
       "20169               0.5                0.0               0.0              0.0   \n",
       "32730               0.0                0.0               0.0              0.0   \n",
       "8510                0.0                0.0               0.0              1.0   \n",
       "36943               0.0                0.0               0.0              0.0   \n",
       "17929               0.5                0.5               0.5              0.5   \n",
       "\n",
       "       Ambience_classy  GoodForMeal_brunch  GoodForMeal_dinner  \n",
       "20169              0.0                 0.5                 0.5  \n",
       "32730              0.0                 1.0                 0.0  \n",
       "8510               0.0                 0.0                 0.0  \n",
       "36943              0.0                 0.0                 1.0  \n",
       "17929              0.5                 0.0                 0.0  "
      ]
     },
     "execution_count": 67,
     "metadata": {},
     "output_type": "execute_result"
    }
   ],
   "source": [
    "X_train.head()"
   ]
  },
  {
   "cell_type": "code",
   "execution_count": 68,
   "metadata": {
    "ExecuteTime": {
     "end_time": "2019-10-03T00:38:52.923889Z",
     "start_time": "2019-10-03T00:38:52.735478Z"
    }
   },
   "outputs": [
    {
     "name": "stdout",
     "output_type": "stream",
     "text": [
      "[ 0.1084645  -0.00203564  0.22382167  0.26201356 -0.16667238 -0.09609864\n",
      " -0.43231148  0.18931041 -0.04041047 -0.06018081  0.12862358  0.23247988\n",
      " -0.52142792 -0.10240355  0.25738445  0.11572098 -0.10738112  0.11369751]\n"
     ]
    },
    {
     "name": "stderr",
     "output_type": "stream",
     "text": [
      "/home/wpishare/anaconda3/lib/python3.7/site-packages/ipykernel_launcher.py:2: UserWarning: With alpha=0, this algorithm does not converge well. You are advised to use the LinearRegression estimator\n",
      "  \n",
      "/home/wpishare/anaconda3/lib/python3.7/site-packages/sklearn/linear_model/coordinate_descent.py:475: UserWarning: Coordinate descent with no regularization may lead to unexpected results and is discouraged.\n",
      "  positive)\n",
      "/home/wpishare/anaconda3/lib/python3.7/site-packages/sklearn/linear_model/coordinate_descent.py:475: ConvergenceWarning: Objective did not converge. You might want to increase the number of iterations. Duality gap: 6369.464863996605, tolerance: 1.4104366309776157\n",
      "  positive)\n"
     ]
    }
   ],
   "source": [
    "lr = Lasso(alpha=0, random_state=0)\n",
    "lr.fit(X_train, y_train)\n",
    "print(lr.coef_)"
   ]
  },
  {
   "cell_type": "code",
   "execution_count": 69,
   "metadata": {
    "ExecuteTime": {
     "end_time": "2019-10-03T00:38:52.928873Z",
     "start_time": "2019-10-03T00:38:52.926729Z"
    }
   },
   "outputs": [
    {
     "name": "stdout",
     "output_type": "stream",
     "text": [
      "[ 0.1084645  -0.00203564  0.22382167  0.26201356 -0.16667238 -0.09609864\n",
      " -0.43231148  0.18931041 -0.04041047 -0.06018081  0.12862358  0.23247988\n",
      " -0.52142792 -0.10240355  0.25738445  0.11572098 -0.10738112  0.11369751]\n",
      "[3.44719193]\n"
     ]
    }
   ],
   "source": [
    "print(lr.coef_)\n",
    "print(lr.intercept_)  "
   ]
  },
  {
   "cell_type": "code",
   "execution_count": 70,
   "metadata": {
    "ExecuteTime": {
     "end_time": "2019-10-03T00:38:53.113936Z",
     "start_time": "2019-10-03T00:38:53.102999Z"
    }
   },
   "outputs": [
    {
     "data": {
      "text/plain": [
       "0.09743711871442662"
      ]
     },
     "execution_count": 70,
     "metadata": {},
     "output_type": "execute_result"
    }
   ],
   "source": [
    "lr.score(X_test,y_test)"
   ]
  },
  {
   "cell_type": "code",
   "execution_count": 71,
   "metadata": {
    "ExecuteTime": {
     "end_time": "2019-10-03T00:38:53.310764Z",
     "start_time": "2019-10-03T00:38:53.301053Z"
    }
   },
   "outputs": [],
   "source": [
    "y_predict = lr.predict(X_test)"
   ]
  },
  {
   "cell_type": "code",
   "execution_count": 72,
   "metadata": {
    "ExecuteTime": {
     "end_time": "2019-10-03T00:38:53.487969Z",
     "start_time": "2019-10-03T00:38:53.484765Z"
    }
   },
   "outputs": [
    {
     "data": {
      "text/plain": [
       "0.6777239237305865"
      ]
     },
     "execution_count": 72,
     "metadata": {},
     "output_type": "execute_result"
    }
   ],
   "source": [
    "rmse_test = np.sqrt(mean_squared_error(y_predict,y_test))\n",
    "rmse_test"
   ]
  },
  {
   "cell_type": "code",
   "execution_count": 73,
   "metadata": {
    "ExecuteTime": {
     "end_time": "2019-10-03T00:38:53.770608Z",
     "start_time": "2019-10-03T00:38:53.665201Z"
    }
   },
   "outputs": [
    {
     "data": {
      "text/plain": [
       "0.09680949514452775"
      ]
     },
     "execution_count": 73,
     "metadata": {},
     "output_type": "execute_result"
    }
   ],
   "source": [
    "lr.score(X_train,y_train)"
   ]
  },
  {
   "cell_type": "code",
   "execution_count": 74,
   "metadata": {
    "ExecuteTime": {
     "end_time": "2019-10-03T00:38:53.896081Z",
     "start_time": "2019-10-03T00:38:53.879370Z"
    }
   },
   "outputs": [],
   "source": [
    "train = pd.merge(X_train, y_train,left_index=True, right_index=True)\n",
    "train.to_csv(\"train.csv\")"
   ]
  },
  {
   "cell_type": "markdown",
   "metadata": {},
   "source": [
    "### Try with XGB"
   ]
  },
  {
   "cell_type": "markdown",
   "metadata": {},
   "source": [
    "#### XGBRegressor with default gamma"
   ]
  },
  {
   "cell_type": "code",
   "execution_count": 75,
   "metadata": {
    "ExecuteTime": {
     "end_time": "2019-10-03T00:38:54.591432Z",
     "start_time": "2019-10-03T00:38:54.487043Z"
    }
   },
   "outputs": [
    {
     "ename": "ValueError",
     "evalue": "DataFrame.dtypes for data must be int, float or bool.\n                Did not expect the data types in fields RestaurantsPriceRange2",
     "output_type": "error",
     "traceback": [
      "\u001b[0;31m---------------------------------------------------------------------------\u001b[0m",
      "\u001b[0;31mValueError\u001b[0m                                Traceback (most recent call last)",
      "\u001b[0;32m<ipython-input-75-9495a31e07cd>\u001b[0m in \u001b[0;36m<module>\u001b[0;34m\u001b[0m\n\u001b[1;32m      4\u001b[0m \u001b[0mX_xgb_train\u001b[0m\u001b[0;34m[\u001b[0m\u001b[0;34m'RestaurantsPriceRange2'\u001b[0m\u001b[0;34m]\u001b[0m \u001b[0;34m=\u001b[0m \u001b[0mX_xgb_train\u001b[0m\u001b[0;34m[\u001b[0m\u001b[0;34m'RestaurantsPriceRange2'\u001b[0m\u001b[0;34m]\u001b[0m\u001b[0;34m.\u001b[0m\u001b[0mapply\u001b[0m\u001b[0;34m(\u001b[0m\u001b[0;32mlambda\u001b[0m \u001b[0mx\u001b[0m\u001b[0;34m:\u001b[0m \u001b[0mfloat\u001b[0m\u001b[0;34m(\u001b[0m\u001b[0mx\u001b[0m\u001b[0;34m)\u001b[0m\u001b[0;34m)\u001b[0m\u001b[0;34m\u001b[0m\u001b[0;34m\u001b[0m\u001b[0m\n\u001b[1;32m      5\u001b[0m \u001b[0mxgb_reg\u001b[0m \u001b[0;34m=\u001b[0m \u001b[0mXGBRegressor\u001b[0m\u001b[0;34m(\u001b[0m\u001b[0mn_estimators\u001b[0m\u001b[0;34m=\u001b[0m\u001b[0;36m100\u001b[0m\u001b[0;34m,\u001b[0m\u001b[0mmax_depth\u001b[0m\u001b[0;34m=\u001b[0m\u001b[0;36m5\u001b[0m\u001b[0;34m,\u001b[0m\u001b[0mgamma\u001b[0m\u001b[0;34m=\u001b[0m\u001b[0;36m0\u001b[0m\u001b[0;34m,\u001b[0m \u001b[0mmissing\u001b[0m\u001b[0;34m=\u001b[0m\u001b[0mnp\u001b[0m\u001b[0;34m.\u001b[0m\u001b[0mnan\u001b[0m\u001b[0;34m)\u001b[0m\u001b[0;34m\u001b[0m\u001b[0;34m\u001b[0m\u001b[0m\n\u001b[0;32m----> 6\u001b[0;31m \u001b[0mxgb_reg\u001b[0m\u001b[0;34m.\u001b[0m\u001b[0mfit\u001b[0m\u001b[0;34m(\u001b[0m\u001b[0mX_train\u001b[0m\u001b[0;34m,\u001b[0m\u001b[0my_train\u001b[0m\u001b[0;34m)\u001b[0m\u001b[0;34m\u001b[0m\u001b[0;34m\u001b[0m\u001b[0m\n\u001b[0m",
      "\u001b[0;32m~/anaconda3/lib/python3.7/site-packages/xgboost/sklearn.py\u001b[0m in \u001b[0;36mfit\u001b[0;34m(self, X, y, sample_weight, eval_set, eval_metric, early_stopping_rounds, verbose, xgb_model, sample_weight_eval_set, callbacks)\u001b[0m\n\u001b[1;32m    358\u001b[0m                                    missing=self.missing, nthread=self.n_jobs)\n\u001b[1;32m    359\u001b[0m         \u001b[0;32melse\u001b[0m\u001b[0;34m:\u001b[0m\u001b[0;34m\u001b[0m\u001b[0;34m\u001b[0m\u001b[0m\n\u001b[0;32m--> 360\u001b[0;31m             \u001b[0mtrainDmatrix\u001b[0m \u001b[0;34m=\u001b[0m \u001b[0mDMatrix\u001b[0m\u001b[0;34m(\u001b[0m\u001b[0mX\u001b[0m\u001b[0;34m,\u001b[0m \u001b[0mlabel\u001b[0m\u001b[0;34m=\u001b[0m\u001b[0my\u001b[0m\u001b[0;34m,\u001b[0m \u001b[0mmissing\u001b[0m\u001b[0;34m=\u001b[0m\u001b[0mself\u001b[0m\u001b[0;34m.\u001b[0m\u001b[0mmissing\u001b[0m\u001b[0;34m,\u001b[0m \u001b[0mnthread\u001b[0m\u001b[0;34m=\u001b[0m\u001b[0mself\u001b[0m\u001b[0;34m.\u001b[0m\u001b[0mn_jobs\u001b[0m\u001b[0;34m)\u001b[0m\u001b[0;34m\u001b[0m\u001b[0;34m\u001b[0m\u001b[0m\n\u001b[0m\u001b[1;32m    361\u001b[0m \u001b[0;34m\u001b[0m\u001b[0m\n\u001b[1;32m    362\u001b[0m         \u001b[0mevals_result\u001b[0m \u001b[0;34m=\u001b[0m \u001b[0;34m{\u001b[0m\u001b[0;34m}\u001b[0m\u001b[0;34m\u001b[0m\u001b[0;34m\u001b[0m\u001b[0m\n",
      "\u001b[0;32m~/anaconda3/lib/python3.7/site-packages/xgboost/core.py\u001b[0m in \u001b[0;36m__init__\u001b[0;34m(self, data, label, missing, weight, silent, feature_names, feature_types, nthread)\u001b[0m\n\u001b[1;32m    378\u001b[0m         data, feature_names, feature_types = _maybe_pandas_data(data,\n\u001b[1;32m    379\u001b[0m                                                                 \u001b[0mfeature_names\u001b[0m\u001b[0;34m,\u001b[0m\u001b[0;34m\u001b[0m\u001b[0;34m\u001b[0m\u001b[0m\n\u001b[0;32m--> 380\u001b[0;31m                                                                 feature_types)\n\u001b[0m\u001b[1;32m    381\u001b[0m \u001b[0;34m\u001b[0m\u001b[0m\n\u001b[1;32m    382\u001b[0m         data, feature_names, feature_types = _maybe_dt_data(data,\n",
      "\u001b[0;32m~/anaconda3/lib/python3.7/site-packages/xgboost/core.py\u001b[0m in \u001b[0;36m_maybe_pandas_data\u001b[0;34m(data, feature_names, feature_types)\u001b[0m\n\u001b[1;32m    237\u001b[0m         msg = \"\"\"DataFrame.dtypes for data must be int, float or bool.\n\u001b[1;32m    238\u001b[0m                 Did not expect the data types in fields \"\"\"\n\u001b[0;32m--> 239\u001b[0;31m         \u001b[0;32mraise\u001b[0m \u001b[0mValueError\u001b[0m\u001b[0;34m(\u001b[0m\u001b[0mmsg\u001b[0m \u001b[0;34m+\u001b[0m \u001b[0;34m', '\u001b[0m\u001b[0;34m.\u001b[0m\u001b[0mjoin\u001b[0m\u001b[0;34m(\u001b[0m\u001b[0mbad_fields\u001b[0m\u001b[0;34m)\u001b[0m\u001b[0;34m)\u001b[0m\u001b[0;34m\u001b[0m\u001b[0;34m\u001b[0m\u001b[0m\n\u001b[0m\u001b[1;32m    240\u001b[0m \u001b[0;34m\u001b[0m\u001b[0m\n\u001b[1;32m    241\u001b[0m     \u001b[0;32mif\u001b[0m \u001b[0mfeature_names\u001b[0m \u001b[0;32mis\u001b[0m \u001b[0;32mNone\u001b[0m\u001b[0;34m:\u001b[0m\u001b[0;34m\u001b[0m\u001b[0;34m\u001b[0m\u001b[0m\n",
      "\u001b[0;31mValueError\u001b[0m: DataFrame.dtypes for data must be int, float or bool.\n                Did not expect the data types in fields RestaurantsPriceRange2"
     ]
    }
   ],
   "source": [
    "X_xgb_train = X_train.replace(0.5,np.nan)\n",
    "X_xgb_test = X_test.replace(0.5,np.nan)\n",
    "\n",
    "X_xgb_train['RestaurantsPriceRange2'] = X_xgb_train['RestaurantsPriceRange2'].apply(lambda x: float(x))\n",
    "xgb_reg = XGBRegressor(n_estimators=100,max_depth=5,gamma=0, missing=np.nan) \n",
    "xgb_reg.fit(X_train,y_train)"
   ]
  },
  {
   "cell_type": "code",
   "execution_count": 76,
   "metadata": {
    "ExecuteTime": {
     "end_time": "2019-10-03T00:38:54.697374Z",
     "start_time": "2019-10-03T00:38:54.694267Z"
    }
   },
   "outputs": [
    {
     "data": {
      "text/plain": [
       "RestaurantsTableService       float64\n",
       "RestaurantsPriceRange2        float64\n",
       "Caters                        float64\n",
       "RestaurantsAttire             float64\n",
       "NoiseLevel                    float64\n",
       "BusinessAcceptsCreditCards    float64\n",
       "BusinessParking_validated     float64\n",
       "BusinessParking_street        float64\n",
       "BusinessParking_valet         float64\n",
       "Ambience_romantic             float64\n",
       "Ambience_intimate             float64\n",
       "Ambience_hipster              float64\n",
       "Ambience_touristy             float64\n",
       "Ambience_upscale              float64\n",
       "Ambience_trendy               float64\n",
       "Ambience_classy               float64\n",
       "GoodForMeal_brunch            float64\n",
       "GoodForMeal_dinner            float64\n",
       "dtype: object"
      ]
     },
     "execution_count": 76,
     "metadata": {},
     "output_type": "execute_result"
    }
   ],
   "source": [
    "X_xgb_train.dtypes"
   ]
  },
  {
   "cell_type": "markdown",
   "metadata": {},
   "source": [
    "<font color=red> Something wrong with the RestaurantsPriceRange2 column dtype. Try XGB without it</font>"
   ]
  },
  {
   "cell_type": "code",
   "execution_count": 77,
   "metadata": {
    "ExecuteTime": {
     "end_time": "2019-10-03T00:38:56.832441Z",
     "start_time": "2019-10-03T00:38:55.120921Z"
    }
   },
   "outputs": [
    {
     "name": "stdout",
     "output_type": "stream",
     "text": [
      "[20:38:55] WARNING: /workspace/src/objective/regression_obj.cu:152: reg:linear is now deprecated in favor of reg:squarederror.\n"
     ]
    },
    {
     "data": {
      "text/plain": [
       "XGBRegressor(base_score=0.5, booster='gbtree', colsample_bylevel=1,\n",
       "             colsample_bynode=1, colsample_bytree=1, gamma=0,\n",
       "             importance_type='gain', learning_rate=0.1, max_delta_step=0,\n",
       "             max_depth=5, min_child_weight=1, missing=None, n_estimators=100,\n",
       "             n_jobs=1, nthread=None, objective='reg:linear', random_state=0,\n",
       "             reg_alpha=0, reg_lambda=1, scale_pos_weight=1, seed=None,\n",
       "             silent=None, subsample=1, verbosity=1)"
      ]
     },
     "execution_count": 77,
     "metadata": {},
     "output_type": "execute_result"
    }
   ],
   "source": [
    "x_xgb_drop_price = X_xgb_train.drop(labels='RestaurantsPriceRange2',axis=1)\n",
    "xgb_reg = XGBRegressor(n_estimators=100,max_depth=5,gamma=0, missing=np.nan) \n",
    "xgb_reg.fit(x_xgb_drop_price,y_train)"
   ]
  },
  {
   "cell_type": "code",
   "execution_count": 78,
   "metadata": {
    "ExecuteTime": {
     "end_time": "2019-10-03T00:38:56.873695Z",
     "start_time": "2019-10-03T00:38:56.833751Z"
    }
   },
   "outputs": [],
   "source": [
    "x_test_drop_price = X_xgb_test.drop(labels='RestaurantsPriceRange2',axis=1)\n",
    "y_pred_drop_price= xgb_reg.predict(x_test_drop_price)"
   ]
  },
  {
   "cell_type": "code",
   "execution_count": 79,
   "metadata": {
    "ExecuteTime": {
     "end_time": "2019-10-03T00:38:56.878638Z",
     "start_time": "2019-10-03T00:38:56.875010Z"
    }
   },
   "outputs": [
    {
     "data": {
      "text/plain": [
       "0.6777239237305865"
      ]
     },
     "execution_count": 79,
     "metadata": {},
     "output_type": "execute_result"
    }
   ],
   "source": [
    "xgb_rmse_test = np.sqrt(mean_squared_error(y_pred_drop_price,y_test))\n",
    "rmse_test"
   ]
  },
  {
   "cell_type": "markdown",
   "metadata": {},
   "source": [
    "# Results: summarize and visualize the results discovered from the analysis"
   ]
  },
  {
   "cell_type": "markdown",
   "metadata": {},
   "source": [
    "## Feature Importance"
   ]
  },
  {
   "cell_type": "code",
   "execution_count": 80,
   "metadata": {
    "ExecuteTime": {
     "end_time": "2019-10-03T00:38:56.898135Z",
     "start_time": "2019-10-03T00:38:56.879853Z"
    }
   },
   "outputs": [
    {
     "data": {
      "text/html": [
       "<div>\n",
       "<style scoped>\n",
       "    .dataframe tbody tr th:only-of-type {\n",
       "        vertical-align: middle;\n",
       "    }\n",
       "\n",
       "    .dataframe tbody tr th {\n",
       "        vertical-align: top;\n",
       "    }\n",
       "\n",
       "    .dataframe thead th {\n",
       "        text-align: right;\n",
       "    }\n",
       "</style>\n",
       "<table border=\"1\" class=\"dataframe\">\n",
       "  <thead>\n",
       "    <tr style=\"text-align: right;\">\n",
       "      <th></th>\n",
       "      <th>columns</th>\n",
       "      <th>values</th>\n",
       "    </tr>\n",
       "  </thead>\n",
       "  <tbody>\n",
       "    <tr>\n",
       "      <th>0</th>\n",
       "      <td>RestaurantsTableService</td>\n",
       "      <td>0.121343</td>\n",
       "    </tr>\n",
       "    <tr>\n",
       "      <th>1</th>\n",
       "      <td>Caters</td>\n",
       "      <td>0.087839</td>\n",
       "    </tr>\n",
       "    <tr>\n",
       "      <th>2</th>\n",
       "      <td>RestaurantsAttire</td>\n",
       "      <td>0.078825</td>\n",
       "    </tr>\n",
       "    <tr>\n",
       "      <th>3</th>\n",
       "      <td>NoiseLevel</td>\n",
       "      <td>0.070538</td>\n",
       "    </tr>\n",
       "    <tr>\n",
       "      <th>4</th>\n",
       "      <td>BusinessAcceptsCreditCards</td>\n",
       "      <td>0.056088</td>\n",
       "    </tr>\n",
       "    <tr>\n",
       "      <th>5</th>\n",
       "      <td>BusinessParking_validated</td>\n",
       "      <td>0.043773</td>\n",
       "    </tr>\n",
       "    <tr>\n",
       "      <th>6</th>\n",
       "      <td>BusinessParking_street</td>\n",
       "      <td>0.116993</td>\n",
       "    </tr>\n",
       "    <tr>\n",
       "      <th>7</th>\n",
       "      <td>BusinessParking_valet</td>\n",
       "      <td>0.010829</td>\n",
       "    </tr>\n",
       "    <tr>\n",
       "      <th>8</th>\n",
       "      <td>Ambience_romantic</td>\n",
       "      <td>0.024360</td>\n",
       "    </tr>\n",
       "    <tr>\n",
       "      <th>9</th>\n",
       "      <td>Ambience_intimate</td>\n",
       "      <td>0.060685</td>\n",
       "    </tr>\n",
       "    <tr>\n",
       "      <th>10</th>\n",
       "      <td>Ambience_hipster</td>\n",
       "      <td>0.056597</td>\n",
       "    </tr>\n",
       "    <tr>\n",
       "      <th>11</th>\n",
       "      <td>Ambience_touristy</td>\n",
       "      <td>0.021208</td>\n",
       "    </tr>\n",
       "    <tr>\n",
       "      <th>12</th>\n",
       "      <td>Ambience_upscale</td>\n",
       "      <td>0.013395</td>\n",
       "    </tr>\n",
       "    <tr>\n",
       "      <th>13</th>\n",
       "      <td>Ambience_trendy</td>\n",
       "      <td>0.072067</td>\n",
       "    </tr>\n",
       "    <tr>\n",
       "      <th>14</th>\n",
       "      <td>Ambience_classy</td>\n",
       "      <td>0.032728</td>\n",
       "    </tr>\n",
       "    <tr>\n",
       "      <th>15</th>\n",
       "      <td>GoodForMeal_brunch</td>\n",
       "      <td>0.035561</td>\n",
       "    </tr>\n",
       "    <tr>\n",
       "      <th>16</th>\n",
       "      <td>GoodForMeal_dinner</td>\n",
       "      <td>0.097173</td>\n",
       "    </tr>\n",
       "  </tbody>\n",
       "</table>\n",
       "</div>"
      ],
      "text/plain": [
       "                       columns    values\n",
       "0      RestaurantsTableService  0.121343\n",
       "1                       Caters  0.087839\n",
       "2            RestaurantsAttire  0.078825\n",
       "3                   NoiseLevel  0.070538\n",
       "4   BusinessAcceptsCreditCards  0.056088\n",
       "5    BusinessParking_validated  0.043773\n",
       "6       BusinessParking_street  0.116993\n",
       "7        BusinessParking_valet  0.010829\n",
       "8            Ambience_romantic  0.024360\n",
       "9            Ambience_intimate  0.060685\n",
       "10            Ambience_hipster  0.056597\n",
       "11           Ambience_touristy  0.021208\n",
       "12            Ambience_upscale  0.013395\n",
       "13             Ambience_trendy  0.072067\n",
       "14             Ambience_classy  0.032728\n",
       "15          GoodForMeal_brunch  0.035561\n",
       "16          GoodForMeal_dinner  0.097173"
      ]
     },
     "execution_count": 80,
     "metadata": {},
     "output_type": "execute_result"
    }
   ],
   "source": [
    "model_df = pd.DataFrame({'columns':list(x_xgb_drop_price.columns)[0:], 'values':xgb_reg.feature_importances_})\n",
    "model_df "
   ]
  },
  {
   "cell_type": "markdown",
   "metadata": {
    "ExecuteTime": {
     "end_time": "2019-10-02T22:58:46.185040Z",
     "start_time": "2019-10-02T22:58:46.180012Z"
    }
   },
   "source": [
    "## Plot feature importance"
   ]
  },
  {
   "cell_type": "code",
   "execution_count": 81,
   "metadata": {
    "ExecuteTime": {
     "end_time": "2019-10-03T00:38:56.902547Z",
     "start_time": "2019-10-03T00:38:56.899300Z"
    }
   },
   "outputs": [],
   "source": [
    "import matplotlib.pyplot as plt\n",
    "model_df.sort_values(by='values',inplace=True)\n",
    "model_df.rename(columns={'columns':'features','values':'importance'},inplace=True)\n"
   ]
  },
  {
   "cell_type": "code",
   "execution_count": 82,
   "metadata": {
    "ExecuteTime": {
     "end_time": "2019-10-03T00:38:58.003257Z",
     "start_time": "2019-10-03T00:38:57.598475Z"
    }
   },
   "outputs": [
    {
     "data": {
      "text/plain": [
       "<matplotlib.axes._subplots.AxesSubplot at 0x7ff34e3667f0>"
      ]
     },
     "execution_count": 82,
     "metadata": {},
     "output_type": "execute_result"
    },
    {
     "data": {
      "image/png": "[encoded data removed]",
      "text/plain": [
       "<Figure size 3000x1800 with 1 Axes>"
      ]
     },
     "metadata": {
      "needs_background": "light"
     },
     "output_type": "display_data"
    }
   ],
   "source": [
    "plt.figure(dpi=300)\n",
    "model_df.plot.barh(x='features', y='importance', rot=0, figsize=(10,6),ax = plt.gca())"
   ]
  },
  {
   "cell_type": "markdown",
   "metadata": {
    "ExecuteTime": {
     "end_time": "2019-10-02T22:59:32.580339Z",
     "start_time": "2019-10-02T22:59:32.571019Z"
    }
   },
   "source": [
    "try different gamma=0, learning_rate=0.1, max_delta_step=0, objective=\"binary:logistic\" or objective='reg:linear"
   ]
  },
  {
   "cell_type": "markdown",
   "metadata": {},
   "source": [
    "*-----------------\n",
    "# Done\n",
    "\n",
    "All set! \n",
    "\n",
    "**What do you need to submit?**\n",
    "\n",
    "* **Notebook File**: Save this Jupyter notebook, and find the notebook file in your folder (for example, \"filename.ipynb\"). This is the file you need to submit. Please make sure all the plotted tables and figures are in the notebook. If you used \"jupyter notebook --pylab=inline\" to open the notebook, all the figures and tables should have shown up in the notebook.\n",
    "\n",
    "* **PPT Slides**: please prepare PPT slides (for 7 minutes' talk) to present about the case study . Each team present their case studies in class for 7 minutes.\n",
    "\n",
    "Please compress all the files in a zipped file.\n",
    "\n",
    "\n",
    "**How to submit:**\n",
    "\n",
    "        Please submit through Canvas, in the Assignment \"Case Study 1\".\n",
    "        \n",
    "**Note: Each team only needs to submit one submission in Canvas**"
   ]
  },
  {
   "cell_type": "markdown",
   "metadata": {},
   "source": [
    "\n",
    "# Peer-Review Grading Template:\n",
    "\n",
    "**Total Points: (100 points)** Please don't worry about the absolute scores, we will rescale the final grading according to the performance of all teams in the class.\n",
    "\n",
    "Please add an \"**X**\" mark in front of your rating: \n",
    "\n",
    "For example:\n",
    "\n",
    "*2: bad*\n",
    "          \n",
    "**X** *3: good*\n",
    "    \n",
    "*4: perfect*\n",
    "\n",
    "\n",
    "    ---------------------------------\n",
    "    The Problem: \n",
    "    ---------------------------------\n",
    "    \n",
    "    1. (10 points) how well did the team describe the problem they are trying to solve using the data? \n",
    "       0: not clear\n",
    "       2: I can barely understand the problem\n",
    "       4: okay, can be improved\n",
    "       6: good, but can be improved\n",
    "       8: very good\n",
    "       10: crystal clear\n",
    "    \n",
    "    2. (10 points) do you think the problem is important or has a potential impact?\n",
    "        0: not important at all\n",
    "        2: not sure if it is important\n",
    "        4: seems important, but not clear\n",
    "        6: interesting problem\n",
    "        8: an important problem, which I want to know the answer myself\n",
    "       10: very important, I would be happy invest money on a project like this.\n",
    "    \n",
    "    ----------------------------------\n",
    "    Data Collection and Processing:\n",
    "    ----------------------------------\n",
    "    \n",
    "    3. (10 points) Do you think the data collected/processed are relevant and sufficient for solving the above problem? \n",
    "       0: not clear\n",
    "       2: I can barely understand what data they are trying to collect/process\n",
    "       4: I can barely understand why the data is relevant to the problem\n",
    "       6: the data are relevant to the problem, but better data can be collected\n",
    "       8: the data collected are relevant and at a proper scale\n",
    "      10: the data are properly collected and they are sufficient\n",
    "\n",
    "    -----------------------------------\n",
    "    Data Exploration:\n",
    "    -----------------------------------\n",
    "    4. How well did the team solve the following task:\n",
    "    \n",
    "    (1) Finding the most popular business categories (5 points):\n",
    "       0: missing answer\n",
    "       1: okay, but with major problems\n",
    "       3: good, but with minor problems\n",
    "       5: perfect\n",
    "    \n",
    "    (2) Find the most popular business objects (5 points)\n",
    "       0: missing answer\n",
    "       1: okay, but with major problems\n",
    "       3: good, but with minor problems\n",
    "       5: perfect\n",
    "    \n",
    "    -----------------------------------\n",
    "    The Solution\n",
    "    -----------------------------------\n",
    "    5.  how well did the team describe the solution they used to solve the problem? (10 points)\n",
    "       0: not clear\n",
    "       2: I can barely understand\n",
    "       4: okay, can be improved\n",
    "       6: good, but can be improved\n",
    "       8: very good\n",
    "       10: crystal clear\n",
    "       \n",
    "    6. how well is the solution in solving the problem? (10 points)\n",
    "       0: not relevant\n",
    "       2: barely relevant to the problem\n",
    "       4: okay solution, but there is an easier solution.\n",
    "       6: good, but can be improved\n",
    "       8: very good, but solution is simple/old\n",
    "       10: innovative and technically sound\n",
    "       \n",
    "    7. how well did the team implement the solution in python? (10 points)\n",
    "       0: the code is not relevant to the solution proposed\n",
    "       2: the code is barely understandable, but not relevant\n",
    "       4: okay, the code is clear but incorrect\n",
    "       6: good, the code is correct, but with major errors\n",
    "       8: very good, the code is correct, but with minor errors\n",
    "      10: perfect \n",
    "   \n",
    "    -----------------------------------\n",
    "    The Results\n",
    "    -----------------------------------\n",
    "     8.  How well did the team present the results they found in the data? (10 points)\n",
    "       0: not clear\n",
    "       2: I can barely understand\n",
    "       4: okay, can be improved\n",
    "       6: good, but can be improved\n",
    "       8: very good\n",
    "      10: crystal clear\n",
    "       \n",
    "     9.  How do you think of the results they found in the data?  (5 points)\n",
    "       0: not clear\n",
    "       1: likely to be wrong\n",
    "       2: okay, maybe wrong\n",
    "       3: good, but can be improved\n",
    "       4: make sense, but not interesting\n",
    "       5: make sense and very interesting\n",
    "     \n",
    "    -----------------------------------\n",
    "    The Presentation\n",
    "    -----------------------------------\n",
    "    10. How all the different parts (data, problem, solution, result) fit together as a coherent story?  \n",
    "       0: they are irrelevant\n",
    "       1: I can barely understand how they are related to each other\n",
    "       2: okay, the problem is good, but the solution doesn't match well, or the problem is not solvable.\n",
    "       3: good, but the results don't make much sense in the context\n",
    "       4: very good fit, but not exciting (the storyline can be improved/polished)\n",
    "       5: a perfect story\n",
    "      \n",
    "    11. Did the presenter make good use of the 10 minutes for presentation?  \n",
    "       0: the team didn't present\n",
    "       1: bad, barely finished a small part of the talk\n",
    "       2: okay, barely finished most parts of the talk.\n",
    "       3: good, finished all parts of the talk, but some part is rushed\n",
    "       4: very good, but the allocation of time on different parts can be improved.\n",
    "       5: perfect timing and good use of time      \n",
    "\n",
    "    12. How well do you think of the presentation (overall quality)?  \n",
    "       0: the team didn't present\n",
    "       1: bad\n",
    "       2: okay\n",
    "       3: good\n",
    "       4: very good\n",
    "       5: perfect\n",
    "\n",
    "\n",
    "    -----------------------------------\n",
    "    Overall: \n",
    "    -----------------------------------\n",
    "    13. How many points out of the 100 do you give to this project in total?  Please don't worry about the absolute scores, we will rescale the final grading according to the performance of all teams in the class.\n",
    "    Total score:\n",
    "    \n",
    "    14. What are the strengths of this project? Briefly, list up to 3 strengths.\n",
    "       1: \n",
    "       2:\n",
    "       3:\n",
    "    \n",
    "    15. What are the weaknesses of this project? Briefly, list up to 3 weaknesses.\n",
    "       1:\n",
    "       2:\n",
    "       3:\n",
    "    \n",
    "    16. Detailed comments and suggestions. What suggestions do you have for this project to improve its quality further.\n",
    "    \n",
    "    \n",
    "    \n",
    "\n",
    "    ---------------------------------\n",
    "    Your Vote: \n",
    "    ---------------------------------\n",
    "    [Overall Quality] Between the two submissions that you are reviewing, which team would you vote for a better score?  (5 bonus points)\n",
    "        0: I vote the other team is better than this team\n",
    "        5: I vote this team is better than the other team \n",
    "        \n",
    "\n",
    "\n"
   ]
  },
  {
   "cell_type": "code",
   "execution_count": null,
   "metadata": {},
   "outputs": [],
   "source": []
  }
 ],
 "metadata": {
  "kernelspec": {
   "display_name": "Python 3",
   "language": "python",
   "name": "python3"
  },
  "language_info": {
   "codemirror_mode": {
    "name": "ipython",
    "version": 3
   },
   "file_extension": ".py",
   "mimetype": "text/x-python",
   "name": "python",
   "nbconvert_exporter": "python",
   "pygments_lexer": "ipython3",
   "version": "3.7.3"
  },
  "toc": {
   "base_numbering": 1,
   "nav_menu": {},
   "number_sections": true,
   "sideBar": true,
   "skip_h1_title": false,
   "title_cell": "Table of Contents",
   "title_sidebar": "Contents",
   "toc_cell": false,
   "toc_position": {
    "height": "calc(100% - 180px)",
    "left": "10px",
    "top": "150px",
    "width": "512px"
   },
   "toc_section_display": true,
   "toc_window_display": true
  }
 },
 "nbformat": 4,
 "nbformat_minor": 1
}
